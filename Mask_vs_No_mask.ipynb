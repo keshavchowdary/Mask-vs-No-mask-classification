{
  "nbformat": 4,
  "nbformat_minor": 0,
  "metadata": {
    "colab": {
      "name": "Mask vs No-mask.ipynb",
      "provenance": []
    },
    "kernelspec": {
      "display_name": "Python 3",
      "name": "python3"
    },
    "language_info": {
      "name": "python"
    }
  },
  "cells": [
    {
      "cell_type": "markdown",
      "metadata": {
        "id": "wYTe_4VjQGpR"
      },
      "source": [
        "MASK VS NO MASK CLASSIFICATION"
      ]
    },
    {
      "cell_type": "code",
      "metadata": {
        "id": "aGHeOZbLik5Q"
      },
      "source": [
        "#import the dependencies\n",
        "import numpy as np \n",
        "import pandas as pd\n",
        "from matplotlib import pyplot as plt\n",
        "from PIL import Image\n",
        "from sklearn.model_selection import train_test_split\n",
        "from sklearn.metrics import accuracy_score"
      ],
      "execution_count": null,
      "outputs": []
    },
    {
      "cell_type": "code",
      "metadata": {
        "id": "j1yMSmW4j8q0"
      },
      "source": [
        "#importing os for navigating through directories\n",
        "import os"
      ],
      "execution_count": null,
      "outputs": []
    },
    {
      "cell_type": "markdown",
      "metadata": {
        "id": "bqiK2Yz5PA2m"
      },
      "source": [
        "preprocessing"
      ]
    },
    {
      "cell_type": "code",
      "metadata": {
        "id": "S6xnzEA-j8uL"
      },
      "source": [
        "#folder path for unmasked images\n",
        "path_unmasked = '/content/drive/MyDrive/datasets/face/'"
      ],
      "execution_count": null,
      "outputs": []
    },
    {
      "cell_type": "code",
      "metadata": {
        "colab": {
          "base_uri": "https://localhost:8080/"
        },
        "id": "YG-t6muMu1ox",
        "outputId": "e7245b90-9197-49a0-8735-fd713bbce216"
      },
      "source": [
        "print(os.listdir(path_unmasked))"
      ],
      "execution_count": null,
      "outputs": [
        {
          "output_type": "stream",
          "text": [
            "['guanyue', 'gulinazha', 'guobiting', 'guofucheng', 'guojingfei', 'guojingjing', 'guojingming', 'guojunchen', 'guoxiaofeng', 'gutianle', 'fanbingbing', 'fanganna', 'fangzuming', 'fanshiqi', 'fanwei', 'fanyichen', 'fengjianyu', 'fuxinbo', 'ganwei', 'gaohu', 'gaoyixiang', 'gaoyuanyuan', 'gongbeibi', 'guanxiaotong']\n"
          ],
          "name": "stdout"
        }
      ]
    },
    {
      "cell_type": "code",
      "metadata": {
        "colab": {
          "base_uri": "https://localhost:8080/"
        },
        "id": "7iDRRCBbvIwL",
        "outputId": "5acf6925-5cee-409f-bbc1-16ef370b9e28"
      },
      "source": [
        "# using listdir function we can print the names of directories in the root directory\n",
        "dirs = os.listdir(path_unmasked)\n",
        "print(dirs)"
      ],
      "execution_count": null,
      "outputs": [
        {
          "output_type": "stream",
          "text": [
            "['guanyue', 'gulinazha', 'guobiting', 'guofucheng', 'guojingfei', 'guojingjing', 'guojingming', 'guojunchen', 'guoxiaofeng', 'gutianle', 'fanbingbing', 'fanganna', 'fangzuming', 'fanshiqi', 'fanwei', 'fanyichen', 'fengjianyu', 'fuxinbo', 'ganwei', 'gaohu', 'gaoyixiang', 'gaoyuanyuan', 'gongbeibi', 'guanxiaotong']\n"
          ],
          "name": "stdout"
        }
      ]
    },
    {
      "cell_type": "code",
      "metadata": {
        "id": "hYwBIPyAvIx3"
      },
      "source": [
        "#create a list for storing the pixel data\n",
        "pixel = []"
      ],
      "execution_count": null,
      "outputs": []
    },
    {
      "cell_type": "code",
      "metadata": {
        "id": "AmouvLL6vI1J"
      },
      "source": [
        "# determine the size of the pixels\n",
        "required_size = (64,64)"
      ],
      "execution_count": null,
      "outputs": []
    },
    {
      "cell_type": "code",
      "metadata": {
        "id": "RRTBOxntxUQN"
      },
      "source": [
        "#convert images to pixel data of shape(64*64*3) and reshape it to 12288\n",
        "for i in dirs:\n",
        "  for j in os.listdir(path_unmasked + i + '/'):\n",
        "    pth = (path_unmasked + i + '/' + j)\n",
        "    image = Image.open(pth)\n",
        "    image = image.convert('RGB')\n",
        "    image = image.resize(required_size)\n",
        "    pixels = np.asarray(image)\n",
        "    pixels = pixels.reshape(12288)\n",
        "    pixel.append(pixels)"
      ],
      "execution_count": null,
      "outputs": []
    },
    {
      "cell_type": "code",
      "metadata": {
        "colab": {
          "base_uri": "https://localhost:8080/"
        },
        "id": "OD8tIH3se8e1",
        "outputId": "706f7c20-98ea-4e26-a504-fef2586fef87"
      },
      "source": [
        "type(pixel[0][0])"
      ],
      "execution_count": null,
      "outputs": [
        {
          "output_type": "execute_result",
          "data": {
            "text/plain": [
              "numpy.uint8"
            ]
          },
          "metadata": {
            "tags": []
          },
          "execution_count": 53
        }
      ]
    },
    {
      "cell_type": "code",
      "metadata": {
        "id": "w-F8bUtB17lU"
      },
      "source": [
        "arr = np.array(pixel)"
      ],
      "execution_count": null,
      "outputs": []
    },
    {
      "cell_type": "code",
      "metadata": {
        "colab": {
          "base_uri": "https://localhost:8080/"
        },
        "id": "OirglRg4255o",
        "outputId": "d0bbf9a3-0b7c-4112-b474-ed206189e715"
      },
      "source": [
        "arr.shape"
      ],
      "execution_count": null,
      "outputs": [
        {
          "output_type": "execute_result",
          "data": {
            "text/plain": [
              "(5019, 12288)"
            ]
          },
          "metadata": {
            "tags": []
          },
          "execution_count": 11
        }
      ]
    },
    {
      "cell_type": "code",
      "metadata": {
        "colab": {
          "base_uri": "https://localhost:8080/"
        },
        "id": "YP7Tm_ej3Aqi",
        "outputId": "726bdda2-e0b2-463b-8eff-73848685ae2e"
      },
      "source": [
        "arr[0]"
      ],
      "execution_count": null,
      "outputs": [
        {
          "output_type": "execute_result",
          "data": {
            "text/plain": [
              "array([42, 33, 27, ..., 18, 17, 13], dtype=uint8)"
            ]
          },
          "metadata": {
            "tags": []
          },
          "execution_count": 12
        }
      ]
    },
    {
      "cell_type": "code",
      "metadata": {
        "id": "1jA4g9dAvI9f"
      },
      "source": [
        "unmask = pd.DataFrame(arr)"
      ],
      "execution_count": null,
      "outputs": []
    },
    {
      "cell_type": "code",
      "metadata": {
        "colab": {
          "base_uri": "https://localhost:8080/",
          "height": 244
        },
        "id": "vkmObrIe4DRd",
        "outputId": "e1fe0392-bfe4-4c5b-dd2e-83f01027d389"
      },
      "source": [
        "unmask.head()"
      ],
      "execution_count": null,
      "outputs": [
        {
          "output_type": "execute_result",
          "data": {
            "text/html": [
              "<div>\n",
              "<style scoped>\n",
              "    .dataframe tbody tr th:only-of-type {\n",
              "        vertical-align: middle;\n",
              "    }\n",
              "\n",
              "    .dataframe tbody tr th {\n",
              "        vertical-align: top;\n",
              "    }\n",
              "\n",
              "    .dataframe thead th {\n",
              "        text-align: right;\n",
              "    }\n",
              "</style>\n",
              "<table border=\"1\" class=\"dataframe\">\n",
              "  <thead>\n",
              "    <tr style=\"text-align: right;\">\n",
              "      <th></th>\n",
              "      <th>0</th>\n",
              "      <th>1</th>\n",
              "      <th>2</th>\n",
              "      <th>3</th>\n",
              "      <th>4</th>\n",
              "      <th>5</th>\n",
              "      <th>6</th>\n",
              "      <th>7</th>\n",
              "      <th>8</th>\n",
              "      <th>9</th>\n",
              "      <th>10</th>\n",
              "      <th>11</th>\n",
              "      <th>12</th>\n",
              "      <th>13</th>\n",
              "      <th>14</th>\n",
              "      <th>15</th>\n",
              "      <th>16</th>\n",
              "      <th>17</th>\n",
              "      <th>18</th>\n",
              "      <th>19</th>\n",
              "      <th>20</th>\n",
              "      <th>21</th>\n",
              "      <th>22</th>\n",
              "      <th>23</th>\n",
              "      <th>24</th>\n",
              "      <th>25</th>\n",
              "      <th>26</th>\n",
              "      <th>27</th>\n",
              "      <th>28</th>\n",
              "      <th>29</th>\n",
              "      <th>30</th>\n",
              "      <th>31</th>\n",
              "      <th>32</th>\n",
              "      <th>33</th>\n",
              "      <th>34</th>\n",
              "      <th>35</th>\n",
              "      <th>36</th>\n",
              "      <th>37</th>\n",
              "      <th>38</th>\n",
              "      <th>39</th>\n",
              "      <th>...</th>\n",
              "      <th>12248</th>\n",
              "      <th>12249</th>\n",
              "      <th>12250</th>\n",
              "      <th>12251</th>\n",
              "      <th>12252</th>\n",
              "      <th>12253</th>\n",
              "      <th>12254</th>\n",
              "      <th>12255</th>\n",
              "      <th>12256</th>\n",
              "      <th>12257</th>\n",
              "      <th>12258</th>\n",
              "      <th>12259</th>\n",
              "      <th>12260</th>\n",
              "      <th>12261</th>\n",
              "      <th>12262</th>\n",
              "      <th>12263</th>\n",
              "      <th>12264</th>\n",
              "      <th>12265</th>\n",
              "      <th>12266</th>\n",
              "      <th>12267</th>\n",
              "      <th>12268</th>\n",
              "      <th>12269</th>\n",
              "      <th>12270</th>\n",
              "      <th>12271</th>\n",
              "      <th>12272</th>\n",
              "      <th>12273</th>\n",
              "      <th>12274</th>\n",
              "      <th>12275</th>\n",
              "      <th>12276</th>\n",
              "      <th>12277</th>\n",
              "      <th>12278</th>\n",
              "      <th>12279</th>\n",
              "      <th>12280</th>\n",
              "      <th>12281</th>\n",
              "      <th>12282</th>\n",
              "      <th>12283</th>\n",
              "      <th>12284</th>\n",
              "      <th>12285</th>\n",
              "      <th>12286</th>\n",
              "      <th>12287</th>\n",
              "    </tr>\n",
              "  </thead>\n",
              "  <tbody>\n",
              "    <tr>\n",
              "      <th>0</th>\n",
              "      <td>42</td>\n",
              "      <td>33</td>\n",
              "      <td>27</td>\n",
              "      <td>43</td>\n",
              "      <td>35</td>\n",
              "      <td>29</td>\n",
              "      <td>44</td>\n",
              "      <td>34</td>\n",
              "      <td>26</td>\n",
              "      <td>45</td>\n",
              "      <td>31</td>\n",
              "      <td>23</td>\n",
              "      <td>48</td>\n",
              "      <td>32</td>\n",
              "      <td>22</td>\n",
              "      <td>53</td>\n",
              "      <td>35</td>\n",
              "      <td>23</td>\n",
              "      <td>63</td>\n",
              "      <td>44</td>\n",
              "      <td>32</td>\n",
              "      <td>72</td>\n",
              "      <td>55</td>\n",
              "      <td>39</td>\n",
              "      <td>81</td>\n",
              "      <td>63</td>\n",
              "      <td>46</td>\n",
              "      <td>91</td>\n",
              "      <td>72</td>\n",
              "      <td>53</td>\n",
              "      <td>102</td>\n",
              "      <td>80</td>\n",
              "      <td>59</td>\n",
              "      <td>113</td>\n",
              "      <td>89</td>\n",
              "      <td>67</td>\n",
              "      <td>124</td>\n",
              "      <td>98</td>\n",
              "      <td>76</td>\n",
              "      <td>131</td>\n",
              "      <td>...</td>\n",
              "      <td>14</td>\n",
              "      <td>11</td>\n",
              "      <td>9</td>\n",
              "      <td>14</td>\n",
              "      <td>12</td>\n",
              "      <td>10</td>\n",
              "      <td>12</td>\n",
              "      <td>15</td>\n",
              "      <td>13</td>\n",
              "      <td>12</td>\n",
              "      <td>17</td>\n",
              "      <td>16</td>\n",
              "      <td>12</td>\n",
              "      <td>17</td>\n",
              "      <td>16</td>\n",
              "      <td>12</td>\n",
              "      <td>15</td>\n",
              "      <td>14</td>\n",
              "      <td>11</td>\n",
              "      <td>17</td>\n",
              "      <td>16</td>\n",
              "      <td>14</td>\n",
              "      <td>20</td>\n",
              "      <td>19</td>\n",
              "      <td>17</td>\n",
              "      <td>21</td>\n",
              "      <td>20</td>\n",
              "      <td>18</td>\n",
              "      <td>18</td>\n",
              "      <td>17</td>\n",
              "      <td>15</td>\n",
              "      <td>15</td>\n",
              "      <td>14</td>\n",
              "      <td>12</td>\n",
              "      <td>17</td>\n",
              "      <td>16</td>\n",
              "      <td>15</td>\n",
              "      <td>18</td>\n",
              "      <td>17</td>\n",
              "      <td>13</td>\n",
              "    </tr>\n",
              "    <tr>\n",
              "      <th>1</th>\n",
              "      <td>28</td>\n",
              "      <td>42</td>\n",
              "      <td>43</td>\n",
              "      <td>35</td>\n",
              "      <td>49</td>\n",
              "      <td>50</td>\n",
              "      <td>42</td>\n",
              "      <td>56</td>\n",
              "      <td>57</td>\n",
              "      <td>43</td>\n",
              "      <td>56</td>\n",
              "      <td>57</td>\n",
              "      <td>33</td>\n",
              "      <td>45</td>\n",
              "      <td>45</td>\n",
              "      <td>19</td>\n",
              "      <td>30</td>\n",
              "      <td>31</td>\n",
              "      <td>10</td>\n",
              "      <td>20</td>\n",
              "      <td>20</td>\n",
              "      <td>8</td>\n",
              "      <td>17</td>\n",
              "      <td>14</td>\n",
              "      <td>11</td>\n",
              "      <td>17</td>\n",
              "      <td>15</td>\n",
              "      <td>16</td>\n",
              "      <td>19</td>\n",
              "      <td>18</td>\n",
              "      <td>18</td>\n",
              "      <td>20</td>\n",
              "      <td>18</td>\n",
              "      <td>22</td>\n",
              "      <td>22</td>\n",
              "      <td>21</td>\n",
              "      <td>22</td>\n",
              "      <td>22</td>\n",
              "      <td>19</td>\n",
              "      <td>25</td>\n",
              "      <td>...</td>\n",
              "      <td>144</td>\n",
              "      <td>181</td>\n",
              "      <td>161</td>\n",
              "      <td>142</td>\n",
              "      <td>166</td>\n",
              "      <td>149</td>\n",
              "      <td>132</td>\n",
              "      <td>152</td>\n",
              "      <td>138</td>\n",
              "      <td>125</td>\n",
              "      <td>137</td>\n",
              "      <td>126</td>\n",
              "      <td>116</td>\n",
              "      <td>106</td>\n",
              "      <td>98</td>\n",
              "      <td>90</td>\n",
              "      <td>68</td>\n",
              "      <td>65</td>\n",
              "      <td>59</td>\n",
              "      <td>42</td>\n",
              "      <td>40</td>\n",
              "      <td>37</td>\n",
              "      <td>44</td>\n",
              "      <td>41</td>\n",
              "      <td>39</td>\n",
              "      <td>47</td>\n",
              "      <td>43</td>\n",
              "      <td>41</td>\n",
              "      <td>48</td>\n",
              "      <td>44</td>\n",
              "      <td>44</td>\n",
              "      <td>44</td>\n",
              "      <td>40</td>\n",
              "      <td>41</td>\n",
              "      <td>44</td>\n",
              "      <td>39</td>\n",
              "      <td>42</td>\n",
              "      <td>42</td>\n",
              "      <td>37</td>\n",
              "      <td>40</td>\n",
              "    </tr>\n",
              "    <tr>\n",
              "      <th>2</th>\n",
              "      <td>10</td>\n",
              "      <td>10</td>\n",
              "      <td>12</td>\n",
              "      <td>6</td>\n",
              "      <td>5</td>\n",
              "      <td>6</td>\n",
              "      <td>8</td>\n",
              "      <td>5</td>\n",
              "      <td>6</td>\n",
              "      <td>9</td>\n",
              "      <td>5</td>\n",
              "      <td>6</td>\n",
              "      <td>9</td>\n",
              "      <td>4</td>\n",
              "      <td>5</td>\n",
              "      <td>8</td>\n",
              "      <td>4</td>\n",
              "      <td>5</td>\n",
              "      <td>8</td>\n",
              "      <td>5</td>\n",
              "      <td>6</td>\n",
              "      <td>9</td>\n",
              "      <td>6</td>\n",
              "      <td>7</td>\n",
              "      <td>12</td>\n",
              "      <td>9</td>\n",
              "      <td>10</td>\n",
              "      <td>13</td>\n",
              "      <td>11</td>\n",
              "      <td>11</td>\n",
              "      <td>15</td>\n",
              "      <td>14</td>\n",
              "      <td>13</td>\n",
              "      <td>17</td>\n",
              "      <td>18</td>\n",
              "      <td>15</td>\n",
              "      <td>19</td>\n",
              "      <td>21</td>\n",
              "      <td>18</td>\n",
              "      <td>16</td>\n",
              "      <td>...</td>\n",
              "      <td>53</td>\n",
              "      <td>95</td>\n",
              "      <td>69</td>\n",
              "      <td>55</td>\n",
              "      <td>97</td>\n",
              "      <td>70</td>\n",
              "      <td>53</td>\n",
              "      <td>96</td>\n",
              "      <td>67</td>\n",
              "      <td>49</td>\n",
              "      <td>107</td>\n",
              "      <td>77</td>\n",
              "      <td>58</td>\n",
              "      <td>117</td>\n",
              "      <td>84</td>\n",
              "      <td>65</td>\n",
              "      <td>127</td>\n",
              "      <td>92</td>\n",
              "      <td>72</td>\n",
              "      <td>133</td>\n",
              "      <td>100</td>\n",
              "      <td>80</td>\n",
              "      <td>137</td>\n",
              "      <td>106</td>\n",
              "      <td>84</td>\n",
              "      <td>140</td>\n",
              "      <td>112</td>\n",
              "      <td>90</td>\n",
              "      <td>148</td>\n",
              "      <td>118</td>\n",
              "      <td>97</td>\n",
              "      <td>151</td>\n",
              "      <td>122</td>\n",
              "      <td>101</td>\n",
              "      <td>153</td>\n",
              "      <td>126</td>\n",
              "      <td>105</td>\n",
              "      <td>154</td>\n",
              "      <td>126</td>\n",
              "      <td>106</td>\n",
              "    </tr>\n",
              "    <tr>\n",
              "      <th>3</th>\n",
              "      <td>85</td>\n",
              "      <td>83</td>\n",
              "      <td>85</td>\n",
              "      <td>84</td>\n",
              "      <td>83</td>\n",
              "      <td>87</td>\n",
              "      <td>77</td>\n",
              "      <td>76</td>\n",
              "      <td>83</td>\n",
              "      <td>65</td>\n",
              "      <td>65</td>\n",
              "      <td>77</td>\n",
              "      <td>62</td>\n",
              "      <td>63</td>\n",
              "      <td>78</td>\n",
              "      <td>66</td>\n",
              "      <td>67</td>\n",
              "      <td>86</td>\n",
              "      <td>69</td>\n",
              "      <td>70</td>\n",
              "      <td>91</td>\n",
              "      <td>64</td>\n",
              "      <td>65</td>\n",
              "      <td>86</td>\n",
              "      <td>59</td>\n",
              "      <td>60</td>\n",
              "      <td>80</td>\n",
              "      <td>55</td>\n",
              "      <td>57</td>\n",
              "      <td>76</td>\n",
              "      <td>56</td>\n",
              "      <td>60</td>\n",
              "      <td>76</td>\n",
              "      <td>57</td>\n",
              "      <td>63</td>\n",
              "      <td>78</td>\n",
              "      <td>55</td>\n",
              "      <td>63</td>\n",
              "      <td>77</td>\n",
              "      <td>53</td>\n",
              "      <td>...</td>\n",
              "      <td>127</td>\n",
              "      <td>170</td>\n",
              "      <td>142</td>\n",
              "      <td>124</td>\n",
              "      <td>160</td>\n",
              "      <td>138</td>\n",
              "      <td>120</td>\n",
              "      <td>151</td>\n",
              "      <td>133</td>\n",
              "      <td>119</td>\n",
              "      <td>111</td>\n",
              "      <td>99</td>\n",
              "      <td>89</td>\n",
              "      <td>52</td>\n",
              "      <td>49</td>\n",
              "      <td>44</td>\n",
              "      <td>28</td>\n",
              "      <td>29</td>\n",
              "      <td>31</td>\n",
              "      <td>23</td>\n",
              "      <td>29</td>\n",
              "      <td>35</td>\n",
              "      <td>20</td>\n",
              "      <td>26</td>\n",
              "      <td>33</td>\n",
              "      <td>23</td>\n",
              "      <td>28</td>\n",
              "      <td>33</td>\n",
              "      <td>23</td>\n",
              "      <td>27</td>\n",
              "      <td>33</td>\n",
              "      <td>22</td>\n",
              "      <td>24</td>\n",
              "      <td>32</td>\n",
              "      <td>24</td>\n",
              "      <td>23</td>\n",
              "      <td>32</td>\n",
              "      <td>28</td>\n",
              "      <td>27</td>\n",
              "      <td>35</td>\n",
              "    </tr>\n",
              "    <tr>\n",
              "      <th>4</th>\n",
              "      <td>76</td>\n",
              "      <td>85</td>\n",
              "      <td>92</td>\n",
              "      <td>36</td>\n",
              "      <td>44</td>\n",
              "      <td>55</td>\n",
              "      <td>19</td>\n",
              "      <td>28</td>\n",
              "      <td>43</td>\n",
              "      <td>11</td>\n",
              "      <td>19</td>\n",
              "      <td>38</td>\n",
              "      <td>5</td>\n",
              "      <td>11</td>\n",
              "      <td>30</td>\n",
              "      <td>6</td>\n",
              "      <td>11</td>\n",
              "      <td>31</td>\n",
              "      <td>11</td>\n",
              "      <td>14</td>\n",
              "      <td>33</td>\n",
              "      <td>6</td>\n",
              "      <td>7</td>\n",
              "      <td>26</td>\n",
              "      <td>2</td>\n",
              "      <td>3</td>\n",
              "      <td>21</td>\n",
              "      <td>3</td>\n",
              "      <td>4</td>\n",
              "      <td>22</td>\n",
              "      <td>4</td>\n",
              "      <td>5</td>\n",
              "      <td>25</td>\n",
              "      <td>6</td>\n",
              "      <td>7</td>\n",
              "      <td>25</td>\n",
              "      <td>11</td>\n",
              "      <td>12</td>\n",
              "      <td>26</td>\n",
              "      <td>15</td>\n",
              "      <td>...</td>\n",
              "      <td>31</td>\n",
              "      <td>28</td>\n",
              "      <td>17</td>\n",
              "      <td>33</td>\n",
              "      <td>19</td>\n",
              "      <td>13</td>\n",
              "      <td>28</td>\n",
              "      <td>19</td>\n",
              "      <td>15</td>\n",
              "      <td>31</td>\n",
              "      <td>19</td>\n",
              "      <td>16</td>\n",
              "      <td>30</td>\n",
              "      <td>14</td>\n",
              "      <td>13</td>\n",
              "      <td>27</td>\n",
              "      <td>12</td>\n",
              "      <td>11</td>\n",
              "      <td>25</td>\n",
              "      <td>13</td>\n",
              "      <td>12</td>\n",
              "      <td>26</td>\n",
              "      <td>28</td>\n",
              "      <td>26</td>\n",
              "      <td>40</td>\n",
              "      <td>89</td>\n",
              "      <td>90</td>\n",
              "      <td>104</td>\n",
              "      <td>99</td>\n",
              "      <td>103</td>\n",
              "      <td>117</td>\n",
              "      <td>101</td>\n",
              "      <td>107</td>\n",
              "      <td>123</td>\n",
              "      <td>154</td>\n",
              "      <td>162</td>\n",
              "      <td>177</td>\n",
              "      <td>203</td>\n",
              "      <td>212</td>\n",
              "      <td>228</td>\n",
              "    </tr>\n",
              "  </tbody>\n",
              "</table>\n",
              "<p>5 rows × 12288 columns</p>\n",
              "</div>"
            ],
            "text/plain": [
              "   0      1      2      3      4      ...  12283  12284  12285  12286  12287\n",
              "0     42     33     27     43     35  ...     16     15     18     17     13\n",
              "1     28     42     43     35     49  ...     39     42     42     37     40\n",
              "2     10     10     12      6      5  ...    126    105    154    126    106\n",
              "3     85     83     85     84     83  ...     23     32     28     27     35\n",
              "4     76     85     92     36     44  ...    162    177    203    212    228\n",
              "\n",
              "[5 rows x 12288 columns]"
            ]
          },
          "metadata": {
            "tags": []
          },
          "execution_count": 14
        }
      ]
    },
    {
      "cell_type": "code",
      "metadata": {
        "colab": {
          "base_uri": "https://localhost:8080/"
        },
        "id": "0Z5v8QUm4DUe",
        "outputId": "be8a8c57-17a6-4134-dfe2-73869ae14c34"
      },
      "source": [
        "unmask.shape"
      ],
      "execution_count": null,
      "outputs": [
        {
          "output_type": "execute_result",
          "data": {
            "text/plain": [
              "(5019, 12288)"
            ]
          },
          "metadata": {
            "tags": []
          },
          "execution_count": 15
        }
      ]
    },
    {
      "cell_type": "code",
      "metadata": {
        "colab": {
          "base_uri": "https://localhost:8080/"
        },
        "id": "EtXjYcv5eM06",
        "outputId": "a41b2c86-e768-4fb6-d989-4083ff0d137e"
      },
      "source": [
        "unmask[0]"
      ],
      "execution_count": null,
      "outputs": [
        {
          "output_type": "execute_result",
          "data": {
            "text/plain": [
              "0        42\n",
              "1        28\n",
              "2        10\n",
              "3        85\n",
              "4        76\n",
              "       ... \n",
              "5014    226\n",
              "5015     29\n",
              "5016    199\n",
              "5017    127\n",
              "5018     58\n",
              "Name: 0, Length: 5019, dtype: uint8"
            ]
          },
          "metadata": {
            "tags": []
          },
          "execution_count": 49
        }
      ]
    },
    {
      "cell_type": "code",
      "metadata": {
        "id": "Rkh_u4qiAQeS"
      },
      "source": [
        "# add the target variable to the dataframe '0' for unmasked\n",
        "unmask.insert(loc=0,column='target',value=np.zeros(unmask.shape[0]))\n",
        "unmask['target'] = unmask['target'].astype(int)"
      ],
      "execution_count": null,
      "outputs": []
    },
    {
      "cell_type": "code",
      "metadata": {
        "colab": {
          "base_uri": "https://localhost:8080/",
          "height": 244
        },
        "id": "wnelQwHPAfn7",
        "outputId": "68def077-e675-4f54-8257-1437cc1d749f"
      },
      "source": [
        "unmask.head()"
      ],
      "execution_count": null,
      "outputs": [
        {
          "output_type": "execute_result",
          "data": {
            "text/html": [
              "<div>\n",
              "<style scoped>\n",
              "    .dataframe tbody tr th:only-of-type {\n",
              "        vertical-align: middle;\n",
              "    }\n",
              "\n",
              "    .dataframe tbody tr th {\n",
              "        vertical-align: top;\n",
              "    }\n",
              "\n",
              "    .dataframe thead th {\n",
              "        text-align: right;\n",
              "    }\n",
              "</style>\n",
              "<table border=\"1\" class=\"dataframe\">\n",
              "  <thead>\n",
              "    <tr style=\"text-align: right;\">\n",
              "      <th></th>\n",
              "      <th>target</th>\n",
              "      <th>0</th>\n",
              "      <th>1</th>\n",
              "      <th>2</th>\n",
              "      <th>3</th>\n",
              "      <th>4</th>\n",
              "      <th>5</th>\n",
              "      <th>6</th>\n",
              "      <th>7</th>\n",
              "      <th>8</th>\n",
              "      <th>9</th>\n",
              "      <th>10</th>\n",
              "      <th>11</th>\n",
              "      <th>12</th>\n",
              "      <th>13</th>\n",
              "      <th>14</th>\n",
              "      <th>15</th>\n",
              "      <th>16</th>\n",
              "      <th>17</th>\n",
              "      <th>18</th>\n",
              "      <th>19</th>\n",
              "      <th>20</th>\n",
              "      <th>21</th>\n",
              "      <th>22</th>\n",
              "      <th>23</th>\n",
              "      <th>24</th>\n",
              "      <th>25</th>\n",
              "      <th>26</th>\n",
              "      <th>27</th>\n",
              "      <th>28</th>\n",
              "      <th>29</th>\n",
              "      <th>30</th>\n",
              "      <th>31</th>\n",
              "      <th>32</th>\n",
              "      <th>33</th>\n",
              "      <th>34</th>\n",
              "      <th>35</th>\n",
              "      <th>36</th>\n",
              "      <th>37</th>\n",
              "      <th>38</th>\n",
              "      <th>...</th>\n",
              "      <th>12248</th>\n",
              "      <th>12249</th>\n",
              "      <th>12250</th>\n",
              "      <th>12251</th>\n",
              "      <th>12252</th>\n",
              "      <th>12253</th>\n",
              "      <th>12254</th>\n",
              "      <th>12255</th>\n",
              "      <th>12256</th>\n",
              "      <th>12257</th>\n",
              "      <th>12258</th>\n",
              "      <th>12259</th>\n",
              "      <th>12260</th>\n",
              "      <th>12261</th>\n",
              "      <th>12262</th>\n",
              "      <th>12263</th>\n",
              "      <th>12264</th>\n",
              "      <th>12265</th>\n",
              "      <th>12266</th>\n",
              "      <th>12267</th>\n",
              "      <th>12268</th>\n",
              "      <th>12269</th>\n",
              "      <th>12270</th>\n",
              "      <th>12271</th>\n",
              "      <th>12272</th>\n",
              "      <th>12273</th>\n",
              "      <th>12274</th>\n",
              "      <th>12275</th>\n",
              "      <th>12276</th>\n",
              "      <th>12277</th>\n",
              "      <th>12278</th>\n",
              "      <th>12279</th>\n",
              "      <th>12280</th>\n",
              "      <th>12281</th>\n",
              "      <th>12282</th>\n",
              "      <th>12283</th>\n",
              "      <th>12284</th>\n",
              "      <th>12285</th>\n",
              "      <th>12286</th>\n",
              "      <th>12287</th>\n",
              "    </tr>\n",
              "  </thead>\n",
              "  <tbody>\n",
              "    <tr>\n",
              "      <th>0</th>\n",
              "      <td>0</td>\n",
              "      <td>42</td>\n",
              "      <td>33</td>\n",
              "      <td>27</td>\n",
              "      <td>43</td>\n",
              "      <td>35</td>\n",
              "      <td>29</td>\n",
              "      <td>44</td>\n",
              "      <td>34</td>\n",
              "      <td>26</td>\n",
              "      <td>45</td>\n",
              "      <td>31</td>\n",
              "      <td>23</td>\n",
              "      <td>48</td>\n",
              "      <td>32</td>\n",
              "      <td>22</td>\n",
              "      <td>53</td>\n",
              "      <td>35</td>\n",
              "      <td>23</td>\n",
              "      <td>63</td>\n",
              "      <td>44</td>\n",
              "      <td>32</td>\n",
              "      <td>72</td>\n",
              "      <td>55</td>\n",
              "      <td>39</td>\n",
              "      <td>81</td>\n",
              "      <td>63</td>\n",
              "      <td>46</td>\n",
              "      <td>91</td>\n",
              "      <td>72</td>\n",
              "      <td>53</td>\n",
              "      <td>102</td>\n",
              "      <td>80</td>\n",
              "      <td>59</td>\n",
              "      <td>113</td>\n",
              "      <td>89</td>\n",
              "      <td>67</td>\n",
              "      <td>124</td>\n",
              "      <td>98</td>\n",
              "      <td>76</td>\n",
              "      <td>...</td>\n",
              "      <td>14</td>\n",
              "      <td>11</td>\n",
              "      <td>9</td>\n",
              "      <td>14</td>\n",
              "      <td>12</td>\n",
              "      <td>10</td>\n",
              "      <td>12</td>\n",
              "      <td>15</td>\n",
              "      <td>13</td>\n",
              "      <td>12</td>\n",
              "      <td>17</td>\n",
              "      <td>16</td>\n",
              "      <td>12</td>\n",
              "      <td>17</td>\n",
              "      <td>16</td>\n",
              "      <td>12</td>\n",
              "      <td>15</td>\n",
              "      <td>14</td>\n",
              "      <td>11</td>\n",
              "      <td>17</td>\n",
              "      <td>16</td>\n",
              "      <td>14</td>\n",
              "      <td>20</td>\n",
              "      <td>19</td>\n",
              "      <td>17</td>\n",
              "      <td>21</td>\n",
              "      <td>20</td>\n",
              "      <td>18</td>\n",
              "      <td>18</td>\n",
              "      <td>17</td>\n",
              "      <td>15</td>\n",
              "      <td>15</td>\n",
              "      <td>14</td>\n",
              "      <td>12</td>\n",
              "      <td>17</td>\n",
              "      <td>16</td>\n",
              "      <td>15</td>\n",
              "      <td>18</td>\n",
              "      <td>17</td>\n",
              "      <td>13</td>\n",
              "    </tr>\n",
              "    <tr>\n",
              "      <th>1</th>\n",
              "      <td>0</td>\n",
              "      <td>28</td>\n",
              "      <td>42</td>\n",
              "      <td>43</td>\n",
              "      <td>35</td>\n",
              "      <td>49</td>\n",
              "      <td>50</td>\n",
              "      <td>42</td>\n",
              "      <td>56</td>\n",
              "      <td>57</td>\n",
              "      <td>43</td>\n",
              "      <td>56</td>\n",
              "      <td>57</td>\n",
              "      <td>33</td>\n",
              "      <td>45</td>\n",
              "      <td>45</td>\n",
              "      <td>19</td>\n",
              "      <td>30</td>\n",
              "      <td>31</td>\n",
              "      <td>10</td>\n",
              "      <td>20</td>\n",
              "      <td>20</td>\n",
              "      <td>8</td>\n",
              "      <td>17</td>\n",
              "      <td>14</td>\n",
              "      <td>11</td>\n",
              "      <td>17</td>\n",
              "      <td>15</td>\n",
              "      <td>16</td>\n",
              "      <td>19</td>\n",
              "      <td>18</td>\n",
              "      <td>18</td>\n",
              "      <td>20</td>\n",
              "      <td>18</td>\n",
              "      <td>22</td>\n",
              "      <td>22</td>\n",
              "      <td>21</td>\n",
              "      <td>22</td>\n",
              "      <td>22</td>\n",
              "      <td>19</td>\n",
              "      <td>...</td>\n",
              "      <td>144</td>\n",
              "      <td>181</td>\n",
              "      <td>161</td>\n",
              "      <td>142</td>\n",
              "      <td>166</td>\n",
              "      <td>149</td>\n",
              "      <td>132</td>\n",
              "      <td>152</td>\n",
              "      <td>138</td>\n",
              "      <td>125</td>\n",
              "      <td>137</td>\n",
              "      <td>126</td>\n",
              "      <td>116</td>\n",
              "      <td>106</td>\n",
              "      <td>98</td>\n",
              "      <td>90</td>\n",
              "      <td>68</td>\n",
              "      <td>65</td>\n",
              "      <td>59</td>\n",
              "      <td>42</td>\n",
              "      <td>40</td>\n",
              "      <td>37</td>\n",
              "      <td>44</td>\n",
              "      <td>41</td>\n",
              "      <td>39</td>\n",
              "      <td>47</td>\n",
              "      <td>43</td>\n",
              "      <td>41</td>\n",
              "      <td>48</td>\n",
              "      <td>44</td>\n",
              "      <td>44</td>\n",
              "      <td>44</td>\n",
              "      <td>40</td>\n",
              "      <td>41</td>\n",
              "      <td>44</td>\n",
              "      <td>39</td>\n",
              "      <td>42</td>\n",
              "      <td>42</td>\n",
              "      <td>37</td>\n",
              "      <td>40</td>\n",
              "    </tr>\n",
              "    <tr>\n",
              "      <th>2</th>\n",
              "      <td>0</td>\n",
              "      <td>10</td>\n",
              "      <td>10</td>\n",
              "      <td>12</td>\n",
              "      <td>6</td>\n",
              "      <td>5</td>\n",
              "      <td>6</td>\n",
              "      <td>8</td>\n",
              "      <td>5</td>\n",
              "      <td>6</td>\n",
              "      <td>9</td>\n",
              "      <td>5</td>\n",
              "      <td>6</td>\n",
              "      <td>9</td>\n",
              "      <td>4</td>\n",
              "      <td>5</td>\n",
              "      <td>8</td>\n",
              "      <td>4</td>\n",
              "      <td>5</td>\n",
              "      <td>8</td>\n",
              "      <td>5</td>\n",
              "      <td>6</td>\n",
              "      <td>9</td>\n",
              "      <td>6</td>\n",
              "      <td>7</td>\n",
              "      <td>12</td>\n",
              "      <td>9</td>\n",
              "      <td>10</td>\n",
              "      <td>13</td>\n",
              "      <td>11</td>\n",
              "      <td>11</td>\n",
              "      <td>15</td>\n",
              "      <td>14</td>\n",
              "      <td>13</td>\n",
              "      <td>17</td>\n",
              "      <td>18</td>\n",
              "      <td>15</td>\n",
              "      <td>19</td>\n",
              "      <td>21</td>\n",
              "      <td>18</td>\n",
              "      <td>...</td>\n",
              "      <td>53</td>\n",
              "      <td>95</td>\n",
              "      <td>69</td>\n",
              "      <td>55</td>\n",
              "      <td>97</td>\n",
              "      <td>70</td>\n",
              "      <td>53</td>\n",
              "      <td>96</td>\n",
              "      <td>67</td>\n",
              "      <td>49</td>\n",
              "      <td>107</td>\n",
              "      <td>77</td>\n",
              "      <td>58</td>\n",
              "      <td>117</td>\n",
              "      <td>84</td>\n",
              "      <td>65</td>\n",
              "      <td>127</td>\n",
              "      <td>92</td>\n",
              "      <td>72</td>\n",
              "      <td>133</td>\n",
              "      <td>100</td>\n",
              "      <td>80</td>\n",
              "      <td>137</td>\n",
              "      <td>106</td>\n",
              "      <td>84</td>\n",
              "      <td>140</td>\n",
              "      <td>112</td>\n",
              "      <td>90</td>\n",
              "      <td>148</td>\n",
              "      <td>118</td>\n",
              "      <td>97</td>\n",
              "      <td>151</td>\n",
              "      <td>122</td>\n",
              "      <td>101</td>\n",
              "      <td>153</td>\n",
              "      <td>126</td>\n",
              "      <td>105</td>\n",
              "      <td>154</td>\n",
              "      <td>126</td>\n",
              "      <td>106</td>\n",
              "    </tr>\n",
              "    <tr>\n",
              "      <th>3</th>\n",
              "      <td>0</td>\n",
              "      <td>85</td>\n",
              "      <td>83</td>\n",
              "      <td>85</td>\n",
              "      <td>84</td>\n",
              "      <td>83</td>\n",
              "      <td>87</td>\n",
              "      <td>77</td>\n",
              "      <td>76</td>\n",
              "      <td>83</td>\n",
              "      <td>65</td>\n",
              "      <td>65</td>\n",
              "      <td>77</td>\n",
              "      <td>62</td>\n",
              "      <td>63</td>\n",
              "      <td>78</td>\n",
              "      <td>66</td>\n",
              "      <td>67</td>\n",
              "      <td>86</td>\n",
              "      <td>69</td>\n",
              "      <td>70</td>\n",
              "      <td>91</td>\n",
              "      <td>64</td>\n",
              "      <td>65</td>\n",
              "      <td>86</td>\n",
              "      <td>59</td>\n",
              "      <td>60</td>\n",
              "      <td>80</td>\n",
              "      <td>55</td>\n",
              "      <td>57</td>\n",
              "      <td>76</td>\n",
              "      <td>56</td>\n",
              "      <td>60</td>\n",
              "      <td>76</td>\n",
              "      <td>57</td>\n",
              "      <td>63</td>\n",
              "      <td>78</td>\n",
              "      <td>55</td>\n",
              "      <td>63</td>\n",
              "      <td>77</td>\n",
              "      <td>...</td>\n",
              "      <td>127</td>\n",
              "      <td>170</td>\n",
              "      <td>142</td>\n",
              "      <td>124</td>\n",
              "      <td>160</td>\n",
              "      <td>138</td>\n",
              "      <td>120</td>\n",
              "      <td>151</td>\n",
              "      <td>133</td>\n",
              "      <td>119</td>\n",
              "      <td>111</td>\n",
              "      <td>99</td>\n",
              "      <td>89</td>\n",
              "      <td>52</td>\n",
              "      <td>49</td>\n",
              "      <td>44</td>\n",
              "      <td>28</td>\n",
              "      <td>29</td>\n",
              "      <td>31</td>\n",
              "      <td>23</td>\n",
              "      <td>29</td>\n",
              "      <td>35</td>\n",
              "      <td>20</td>\n",
              "      <td>26</td>\n",
              "      <td>33</td>\n",
              "      <td>23</td>\n",
              "      <td>28</td>\n",
              "      <td>33</td>\n",
              "      <td>23</td>\n",
              "      <td>27</td>\n",
              "      <td>33</td>\n",
              "      <td>22</td>\n",
              "      <td>24</td>\n",
              "      <td>32</td>\n",
              "      <td>24</td>\n",
              "      <td>23</td>\n",
              "      <td>32</td>\n",
              "      <td>28</td>\n",
              "      <td>27</td>\n",
              "      <td>35</td>\n",
              "    </tr>\n",
              "    <tr>\n",
              "      <th>4</th>\n",
              "      <td>0</td>\n",
              "      <td>76</td>\n",
              "      <td>85</td>\n",
              "      <td>92</td>\n",
              "      <td>36</td>\n",
              "      <td>44</td>\n",
              "      <td>55</td>\n",
              "      <td>19</td>\n",
              "      <td>28</td>\n",
              "      <td>43</td>\n",
              "      <td>11</td>\n",
              "      <td>19</td>\n",
              "      <td>38</td>\n",
              "      <td>5</td>\n",
              "      <td>11</td>\n",
              "      <td>30</td>\n",
              "      <td>6</td>\n",
              "      <td>11</td>\n",
              "      <td>31</td>\n",
              "      <td>11</td>\n",
              "      <td>14</td>\n",
              "      <td>33</td>\n",
              "      <td>6</td>\n",
              "      <td>7</td>\n",
              "      <td>26</td>\n",
              "      <td>2</td>\n",
              "      <td>3</td>\n",
              "      <td>21</td>\n",
              "      <td>3</td>\n",
              "      <td>4</td>\n",
              "      <td>22</td>\n",
              "      <td>4</td>\n",
              "      <td>5</td>\n",
              "      <td>25</td>\n",
              "      <td>6</td>\n",
              "      <td>7</td>\n",
              "      <td>25</td>\n",
              "      <td>11</td>\n",
              "      <td>12</td>\n",
              "      <td>26</td>\n",
              "      <td>...</td>\n",
              "      <td>31</td>\n",
              "      <td>28</td>\n",
              "      <td>17</td>\n",
              "      <td>33</td>\n",
              "      <td>19</td>\n",
              "      <td>13</td>\n",
              "      <td>28</td>\n",
              "      <td>19</td>\n",
              "      <td>15</td>\n",
              "      <td>31</td>\n",
              "      <td>19</td>\n",
              "      <td>16</td>\n",
              "      <td>30</td>\n",
              "      <td>14</td>\n",
              "      <td>13</td>\n",
              "      <td>27</td>\n",
              "      <td>12</td>\n",
              "      <td>11</td>\n",
              "      <td>25</td>\n",
              "      <td>13</td>\n",
              "      <td>12</td>\n",
              "      <td>26</td>\n",
              "      <td>28</td>\n",
              "      <td>26</td>\n",
              "      <td>40</td>\n",
              "      <td>89</td>\n",
              "      <td>90</td>\n",
              "      <td>104</td>\n",
              "      <td>99</td>\n",
              "      <td>103</td>\n",
              "      <td>117</td>\n",
              "      <td>101</td>\n",
              "      <td>107</td>\n",
              "      <td>123</td>\n",
              "      <td>154</td>\n",
              "      <td>162</td>\n",
              "      <td>177</td>\n",
              "      <td>203</td>\n",
              "      <td>212</td>\n",
              "      <td>228</td>\n",
              "    </tr>\n",
              "  </tbody>\n",
              "</table>\n",
              "<p>5 rows × 12289 columns</p>\n",
              "</div>"
            ],
            "text/plain": [
              "   target   0   1   2   3   4  ...  12282  12283  12284  12285  12286  12287\n",
              "0       0  42  33  27  43  35  ...     17     16     15     18     17     13\n",
              "1       0  28  42  43  35  49  ...     44     39     42     42     37     40\n",
              "2       0  10  10  12   6   5  ...    153    126    105    154    126    106\n",
              "3       0  85  83  85  84  83  ...     24     23     32     28     27     35\n",
              "4       0  76  85  92  36  44  ...    154    162    177    203    212    228\n",
              "\n",
              "[5 rows x 12289 columns]"
            ]
          },
          "metadata": {
            "tags": []
          },
          "execution_count": 17
        }
      ]
    },
    {
      "cell_type": "code",
      "metadata": {
        "id": "xmHAY-JB4Tn8"
      },
      "source": [
        "#folder path for masked dataset\n",
        "path_masked = '/content/drive/MyDrive/datasets/Masked/'"
      ],
      "execution_count": null,
      "outputs": []
    },
    {
      "cell_type": "code",
      "metadata": {
        "id": "-WVNN1W24Tpt"
      },
      "source": [
        "#storing all the sub directories of masked data\n",
        "sub_dir = os.listdir(path_masked)"
      ],
      "execution_count": null,
      "outputs": []
    },
    {
      "cell_type": "code",
      "metadata": {
        "id": "2e8slR4g4TtT"
      },
      "source": [
        "masks = []"
      ],
      "execution_count": null,
      "outputs": []
    },
    {
      "cell_type": "code",
      "metadata": {
        "id": "0iEQnBhc4TwL"
      },
      "source": [
        "#converting images into pixel data\n",
        "for i in sub_dir:\n",
        "  for j in os.listdir(path_masked + i + '/'):\n",
        "    pth = (path_masked + i + '/' + j)\n",
        "    image = Image.open(pth)\n",
        "    image = image.convert('RGB')\n",
        "    image = image.resize(required_size)\n",
        "    pixels = np.asarray(image)\n",
        "    pixels = pixels.reshape(12288)\n",
        "    masks.append(pixels)"
      ],
      "execution_count": null,
      "outputs": []
    },
    {
      "cell_type": "code",
      "metadata": {
        "id": "dSrL5FVJ9EFq"
      },
      "source": [
        "arr2 = np.array(masks)"
      ],
      "execution_count": null,
      "outputs": []
    },
    {
      "cell_type": "code",
      "metadata": {
        "colab": {
          "base_uri": "https://localhost:8080/"
        },
        "id": "GBHQj5xh9ELr",
        "outputId": "0d37d594-d212-416d-889d-e7e00550dbc2"
      },
      "source": [
        "arr2.shape"
      ],
      "execution_count": null,
      "outputs": [
        {
          "output_type": "execute_result",
          "data": {
            "text/plain": [
              "(467, 12288)"
            ]
          },
          "metadata": {
            "tags": []
          },
          "execution_count": 23
        }
      ]
    },
    {
      "cell_type": "code",
      "metadata": {
        "colab": {
          "base_uri": "https://localhost:8080/",
          "height": 244
        },
        "id": "rN7k03v69EOj",
        "outputId": "5a4c9b1a-fbbb-4c18-8394-83e05bd09cff"
      },
      "source": [
        "mask = pd.DataFrame(arr2)\n",
        "mask.head()"
      ],
      "execution_count": null,
      "outputs": [
        {
          "output_type": "execute_result",
          "data": {
            "text/html": [
              "<div>\n",
              "<style scoped>\n",
              "    .dataframe tbody tr th:only-of-type {\n",
              "        vertical-align: middle;\n",
              "    }\n",
              "\n",
              "    .dataframe tbody tr th {\n",
              "        vertical-align: top;\n",
              "    }\n",
              "\n",
              "    .dataframe thead th {\n",
              "        text-align: right;\n",
              "    }\n",
              "</style>\n",
              "<table border=\"1\" class=\"dataframe\">\n",
              "  <thead>\n",
              "    <tr style=\"text-align: right;\">\n",
              "      <th></th>\n",
              "      <th>0</th>\n",
              "      <th>1</th>\n",
              "      <th>2</th>\n",
              "      <th>3</th>\n",
              "      <th>4</th>\n",
              "      <th>5</th>\n",
              "      <th>6</th>\n",
              "      <th>7</th>\n",
              "      <th>8</th>\n",
              "      <th>9</th>\n",
              "      <th>10</th>\n",
              "      <th>11</th>\n",
              "      <th>12</th>\n",
              "      <th>13</th>\n",
              "      <th>14</th>\n",
              "      <th>15</th>\n",
              "      <th>16</th>\n",
              "      <th>17</th>\n",
              "      <th>18</th>\n",
              "      <th>19</th>\n",
              "      <th>20</th>\n",
              "      <th>21</th>\n",
              "      <th>22</th>\n",
              "      <th>23</th>\n",
              "      <th>24</th>\n",
              "      <th>25</th>\n",
              "      <th>26</th>\n",
              "      <th>27</th>\n",
              "      <th>28</th>\n",
              "      <th>29</th>\n",
              "      <th>30</th>\n",
              "      <th>31</th>\n",
              "      <th>32</th>\n",
              "      <th>33</th>\n",
              "      <th>34</th>\n",
              "      <th>35</th>\n",
              "      <th>36</th>\n",
              "      <th>37</th>\n",
              "      <th>38</th>\n",
              "      <th>39</th>\n",
              "      <th>...</th>\n",
              "      <th>12248</th>\n",
              "      <th>12249</th>\n",
              "      <th>12250</th>\n",
              "      <th>12251</th>\n",
              "      <th>12252</th>\n",
              "      <th>12253</th>\n",
              "      <th>12254</th>\n",
              "      <th>12255</th>\n",
              "      <th>12256</th>\n",
              "      <th>12257</th>\n",
              "      <th>12258</th>\n",
              "      <th>12259</th>\n",
              "      <th>12260</th>\n",
              "      <th>12261</th>\n",
              "      <th>12262</th>\n",
              "      <th>12263</th>\n",
              "      <th>12264</th>\n",
              "      <th>12265</th>\n",
              "      <th>12266</th>\n",
              "      <th>12267</th>\n",
              "      <th>12268</th>\n",
              "      <th>12269</th>\n",
              "      <th>12270</th>\n",
              "      <th>12271</th>\n",
              "      <th>12272</th>\n",
              "      <th>12273</th>\n",
              "      <th>12274</th>\n",
              "      <th>12275</th>\n",
              "      <th>12276</th>\n",
              "      <th>12277</th>\n",
              "      <th>12278</th>\n",
              "      <th>12279</th>\n",
              "      <th>12280</th>\n",
              "      <th>12281</th>\n",
              "      <th>12282</th>\n",
              "      <th>12283</th>\n",
              "      <th>12284</th>\n",
              "      <th>12285</th>\n",
              "      <th>12286</th>\n",
              "      <th>12287</th>\n",
              "    </tr>\n",
              "  </thead>\n",
              "  <tbody>\n",
              "    <tr>\n",
              "      <th>0</th>\n",
              "      <td>187</td>\n",
              "      <td>150</td>\n",
              "      <td>128</td>\n",
              "      <td>177</td>\n",
              "      <td>134</td>\n",
              "      <td>103</td>\n",
              "      <td>168</td>\n",
              "      <td>117</td>\n",
              "      <td>78</td>\n",
              "      <td>152</td>\n",
              "      <td>98</td>\n",
              "      <td>61</td>\n",
              "      <td>126</td>\n",
              "      <td>75</td>\n",
              "      <td>47</td>\n",
              "      <td>105</td>\n",
              "      <td>65</td>\n",
              "      <td>46</td>\n",
              "      <td>89</td>\n",
              "      <td>59</td>\n",
              "      <td>45</td>\n",
              "      <td>78</td>\n",
              "      <td>52</td>\n",
              "      <td>41</td>\n",
              "      <td>62</td>\n",
              "      <td>42</td>\n",
              "      <td>36</td>\n",
              "      <td>46</td>\n",
              "      <td>43</td>\n",
              "      <td>35</td>\n",
              "      <td>35</td>\n",
              "      <td>42</td>\n",
              "      <td>39</td>\n",
              "      <td>24</td>\n",
              "      <td>31</td>\n",
              "      <td>31</td>\n",
              "      <td>20</td>\n",
              "      <td>25</td>\n",
              "      <td>23</td>\n",
              "      <td>28</td>\n",
              "      <td>...</td>\n",
              "      <td>32</td>\n",
              "      <td>46</td>\n",
              "      <td>39</td>\n",
              "      <td>31</td>\n",
              "      <td>55</td>\n",
              "      <td>43</td>\n",
              "      <td>35</td>\n",
              "      <td>78</td>\n",
              "      <td>63</td>\n",
              "      <td>53</td>\n",
              "      <td>71</td>\n",
              "      <td>58</td>\n",
              "      <td>46</td>\n",
              "      <td>85</td>\n",
              "      <td>70</td>\n",
              "      <td>59</td>\n",
              "      <td>106</td>\n",
              "      <td>88</td>\n",
              "      <td>74</td>\n",
              "      <td>87</td>\n",
              "      <td>63</td>\n",
              "      <td>49</td>\n",
              "      <td>94</td>\n",
              "      <td>63</td>\n",
              "      <td>48</td>\n",
              "      <td>115</td>\n",
              "      <td>78</td>\n",
              "      <td>58</td>\n",
              "      <td>128</td>\n",
              "      <td>88</td>\n",
              "      <td>58</td>\n",
              "      <td>119</td>\n",
              "      <td>77</td>\n",
              "      <td>48</td>\n",
              "      <td>149</td>\n",
              "      <td>104</td>\n",
              "      <td>83</td>\n",
              "      <td>147</td>\n",
              "      <td>103</td>\n",
              "      <td>83</td>\n",
              "    </tr>\n",
              "    <tr>\n",
              "      <th>1</th>\n",
              "      <td>195</td>\n",
              "      <td>163</td>\n",
              "      <td>128</td>\n",
              "      <td>212</td>\n",
              "      <td>178</td>\n",
              "      <td>142</td>\n",
              "      <td>223</td>\n",
              "      <td>189</td>\n",
              "      <td>151</td>\n",
              "      <td>228</td>\n",
              "      <td>194</td>\n",
              "      <td>156</td>\n",
              "      <td>228</td>\n",
              "      <td>194</td>\n",
              "      <td>156</td>\n",
              "      <td>227</td>\n",
              "      <td>192</td>\n",
              "      <td>155</td>\n",
              "      <td>225</td>\n",
              "      <td>188</td>\n",
              "      <td>152</td>\n",
              "      <td>220</td>\n",
              "      <td>184</td>\n",
              "      <td>147</td>\n",
              "      <td>213</td>\n",
              "      <td>178</td>\n",
              "      <td>141</td>\n",
              "      <td>208</td>\n",
              "      <td>169</td>\n",
              "      <td>134</td>\n",
              "      <td>186</td>\n",
              "      <td>139</td>\n",
              "      <td>114</td>\n",
              "      <td>152</td>\n",
              "      <td>97</td>\n",
              "      <td>86</td>\n",
              "      <td>130</td>\n",
              "      <td>77</td>\n",
              "      <td>75</td>\n",
              "      <td>114</td>\n",
              "      <td>...</td>\n",
              "      <td>52</td>\n",
              "      <td>33</td>\n",
              "      <td>22</td>\n",
              "      <td>54</td>\n",
              "      <td>32</td>\n",
              "      <td>21</td>\n",
              "      <td>53</td>\n",
              "      <td>32</td>\n",
              "      <td>21</td>\n",
              "      <td>53</td>\n",
              "      <td>32</td>\n",
              "      <td>21</td>\n",
              "      <td>53</td>\n",
              "      <td>32</td>\n",
              "      <td>21</td>\n",
              "      <td>53</td>\n",
              "      <td>32</td>\n",
              "      <td>21</td>\n",
              "      <td>53</td>\n",
              "      <td>32</td>\n",
              "      <td>21</td>\n",
              "      <td>53</td>\n",
              "      <td>33</td>\n",
              "      <td>20</td>\n",
              "      <td>52</td>\n",
              "      <td>34</td>\n",
              "      <td>20</td>\n",
              "      <td>53</td>\n",
              "      <td>35</td>\n",
              "      <td>21</td>\n",
              "      <td>54</td>\n",
              "      <td>35</td>\n",
              "      <td>22</td>\n",
              "      <td>52</td>\n",
              "      <td>41</td>\n",
              "      <td>27</td>\n",
              "      <td>56</td>\n",
              "      <td>45</td>\n",
              "      <td>29</td>\n",
              "      <td>58</td>\n",
              "    </tr>\n",
              "    <tr>\n",
              "      <th>2</th>\n",
              "      <td>59</td>\n",
              "      <td>37</td>\n",
              "      <td>39</td>\n",
              "      <td>58</td>\n",
              "      <td>36</td>\n",
              "      <td>36</td>\n",
              "      <td>73</td>\n",
              "      <td>49</td>\n",
              "      <td>49</td>\n",
              "      <td>85</td>\n",
              "      <td>59</td>\n",
              "      <td>59</td>\n",
              "      <td>85</td>\n",
              "      <td>57</td>\n",
              "      <td>56</td>\n",
              "      <td>83</td>\n",
              "      <td>53</td>\n",
              "      <td>52</td>\n",
              "      <td>75</td>\n",
              "      <td>46</td>\n",
              "      <td>45</td>\n",
              "      <td>66</td>\n",
              "      <td>40</td>\n",
              "      <td>41</td>\n",
              "      <td>72</td>\n",
              "      <td>51</td>\n",
              "      <td>50</td>\n",
              "      <td>70</td>\n",
              "      <td>50</td>\n",
              "      <td>49</td>\n",
              "      <td>64</td>\n",
              "      <td>43</td>\n",
              "      <td>42</td>\n",
              "      <td>74</td>\n",
              "      <td>53</td>\n",
              "      <td>52</td>\n",
              "      <td>76</td>\n",
              "      <td>53</td>\n",
              "      <td>53</td>\n",
              "      <td>70</td>\n",
              "      <td>...</td>\n",
              "      <td>100</td>\n",
              "      <td>154</td>\n",
              "      <td>104</td>\n",
              "      <td>100</td>\n",
              "      <td>158</td>\n",
              "      <td>106</td>\n",
              "      <td>101</td>\n",
              "      <td>169</td>\n",
              "      <td>116</td>\n",
              "      <td>105</td>\n",
              "      <td>175</td>\n",
              "      <td>125</td>\n",
              "      <td>110</td>\n",
              "      <td>179</td>\n",
              "      <td>133</td>\n",
              "      <td>119</td>\n",
              "      <td>183</td>\n",
              "      <td>144</td>\n",
              "      <td>130</td>\n",
              "      <td>182</td>\n",
              "      <td>151</td>\n",
              "      <td>137</td>\n",
              "      <td>183</td>\n",
              "      <td>161</td>\n",
              "      <td>147</td>\n",
              "      <td>188</td>\n",
              "      <td>171</td>\n",
              "      <td>160</td>\n",
              "      <td>191</td>\n",
              "      <td>177</td>\n",
              "      <td>170</td>\n",
              "      <td>188</td>\n",
              "      <td>183</td>\n",
              "      <td>177</td>\n",
              "      <td>214</td>\n",
              "      <td>221</td>\n",
              "      <td>213</td>\n",
              "      <td>211</td>\n",
              "      <td>227</td>\n",
              "      <td>217</td>\n",
              "    </tr>\n",
              "    <tr>\n",
              "      <th>3</th>\n",
              "      <td>58</td>\n",
              "      <td>45</td>\n",
              "      <td>36</td>\n",
              "      <td>51</td>\n",
              "      <td>38</td>\n",
              "      <td>33</td>\n",
              "      <td>44</td>\n",
              "      <td>33</td>\n",
              "      <td>29</td>\n",
              "      <td>47</td>\n",
              "      <td>37</td>\n",
              "      <td>33</td>\n",
              "      <td>56</td>\n",
              "      <td>47</td>\n",
              "      <td>42</td>\n",
              "      <td>52</td>\n",
              "      <td>42</td>\n",
              "      <td>38</td>\n",
              "      <td>49</td>\n",
              "      <td>37</td>\n",
              "      <td>36</td>\n",
              "      <td>42</td>\n",
              "      <td>31</td>\n",
              "      <td>29</td>\n",
              "      <td>40</td>\n",
              "      <td>29</td>\n",
              "      <td>28</td>\n",
              "      <td>38</td>\n",
              "      <td>29</td>\n",
              "      <td>29</td>\n",
              "      <td>36</td>\n",
              "      <td>28</td>\n",
              "      <td>29</td>\n",
              "      <td>37</td>\n",
              "      <td>28</td>\n",
              "      <td>30</td>\n",
              "      <td>36</td>\n",
              "      <td>28</td>\n",
              "      <td>30</td>\n",
              "      <td>34</td>\n",
              "      <td>...</td>\n",
              "      <td>96</td>\n",
              "      <td>120</td>\n",
              "      <td>85</td>\n",
              "      <td>78</td>\n",
              "      <td>99</td>\n",
              "      <td>66</td>\n",
              "      <td>60</td>\n",
              "      <td>78</td>\n",
              "      <td>49</td>\n",
              "      <td>45</td>\n",
              "      <td>54</td>\n",
              "      <td>31</td>\n",
              "      <td>32</td>\n",
              "      <td>90</td>\n",
              "      <td>77</td>\n",
              "      <td>86</td>\n",
              "      <td>154</td>\n",
              "      <td>150</td>\n",
              "      <td>172</td>\n",
              "      <td>203</td>\n",
              "      <td>203</td>\n",
              "      <td>228</td>\n",
              "      <td>81</td>\n",
              "      <td>71</td>\n",
              "      <td>79</td>\n",
              "      <td>207</td>\n",
              "      <td>173</td>\n",
              "      <td>181</td>\n",
              "      <td>208</td>\n",
              "      <td>152</td>\n",
              "      <td>159</td>\n",
              "      <td>106</td>\n",
              "      <td>79</td>\n",
              "      <td>77</td>\n",
              "      <td>113</td>\n",
              "      <td>112</td>\n",
              "      <td>110</td>\n",
              "      <td>201</td>\n",
              "      <td>106</td>\n",
              "      <td>107</td>\n",
              "    </tr>\n",
              "    <tr>\n",
              "      <th>4</th>\n",
              "      <td>30</td>\n",
              "      <td>26</td>\n",
              "      <td>26</td>\n",
              "      <td>31</td>\n",
              "      <td>26</td>\n",
              "      <td>26</td>\n",
              "      <td>32</td>\n",
              "      <td>26</td>\n",
              "      <td>25</td>\n",
              "      <td>37</td>\n",
              "      <td>31</td>\n",
              "      <td>30</td>\n",
              "      <td>40</td>\n",
              "      <td>34</td>\n",
              "      <td>32</td>\n",
              "      <td>38</td>\n",
              "      <td>31</td>\n",
              "      <td>30</td>\n",
              "      <td>35</td>\n",
              "      <td>29</td>\n",
              "      <td>28</td>\n",
              "      <td>33</td>\n",
              "      <td>28</td>\n",
              "      <td>27</td>\n",
              "      <td>32</td>\n",
              "      <td>27</td>\n",
              "      <td>28</td>\n",
              "      <td>26</td>\n",
              "      <td>24</td>\n",
              "      <td>27</td>\n",
              "      <td>23</td>\n",
              "      <td>24</td>\n",
              "      <td>26</td>\n",
              "      <td>24</td>\n",
              "      <td>24</td>\n",
              "      <td>28</td>\n",
              "      <td>25</td>\n",
              "      <td>24</td>\n",
              "      <td>29</td>\n",
              "      <td>27</td>\n",
              "      <td>...</td>\n",
              "      <td>255</td>\n",
              "      <td>221</td>\n",
              "      <td>229</td>\n",
              "      <td>255</td>\n",
              "      <td>218</td>\n",
              "      <td>225</td>\n",
              "      <td>255</td>\n",
              "      <td>214</td>\n",
              "      <td>221</td>\n",
              "      <td>255</td>\n",
              "      <td>212</td>\n",
              "      <td>221</td>\n",
              "      <td>255</td>\n",
              "      <td>219</td>\n",
              "      <td>229</td>\n",
              "      <td>255</td>\n",
              "      <td>225</td>\n",
              "      <td>235</td>\n",
              "      <td>255</td>\n",
              "      <td>224</td>\n",
              "      <td>235</td>\n",
              "      <td>255</td>\n",
              "      <td>222</td>\n",
              "      <td>235</td>\n",
              "      <td>255</td>\n",
              "      <td>222</td>\n",
              "      <td>235</td>\n",
              "      <td>255</td>\n",
              "      <td>222</td>\n",
              "      <td>236</td>\n",
              "      <td>255</td>\n",
              "      <td>224</td>\n",
              "      <td>236</td>\n",
              "      <td>255</td>\n",
              "      <td>226</td>\n",
              "      <td>237</td>\n",
              "      <td>255</td>\n",
              "      <td>225</td>\n",
              "      <td>236</td>\n",
              "      <td>255</td>\n",
              "    </tr>\n",
              "  </tbody>\n",
              "</table>\n",
              "<p>5 rows × 12288 columns</p>\n",
              "</div>"
            ],
            "text/plain": [
              "   0      1      2      3      4      ...  12283  12284  12285  12286  12287\n",
              "0    187    150    128    177    134  ...    104     83    147    103     83\n",
              "1    195    163    128    212    178  ...     27     56     45     29     58\n",
              "2     59     37     39     58     36  ...    221    213    211    227    217\n",
              "3     58     45     36     51     38  ...    112    110    201    106    107\n",
              "4     30     26     26     31     26  ...    237    255    225    236    255\n",
              "\n",
              "[5 rows x 12288 columns]"
            ]
          },
          "metadata": {
            "tags": []
          },
          "execution_count": 24
        }
      ]
    },
    {
      "cell_type": "code",
      "metadata": {
        "colab": {
          "base_uri": "https://localhost:8080/"
        },
        "id": "SG_QSd3d_oNH",
        "outputId": "2480d1b0-a585-418b-c7b2-901c142165ed"
      },
      "source": [
        "mask.shape"
      ],
      "execution_count": null,
      "outputs": [
        {
          "output_type": "execute_result",
          "data": {
            "text/plain": [
              "(467, 12288)"
            ]
          },
          "metadata": {
            "tags": []
          },
          "execution_count": 25
        }
      ]
    },
    {
      "cell_type": "code",
      "metadata": {
        "id": "kHgqM4NE9Efq"
      },
      "source": [
        "#adding target column. '1' for masked samples\n",
        "mask.insert(loc=0,column='target',value=np.ones(mask.shape[0]))"
      ],
      "execution_count": null,
      "outputs": []
    },
    {
      "cell_type": "code",
      "metadata": {
        "id": "6_AS7SFAADGI"
      },
      "source": [
        "mask['target']=mask['target'].astype(int)"
      ],
      "execution_count": null,
      "outputs": []
    },
    {
      "cell_type": "code",
      "metadata": {
        "colab": {
          "base_uri": "https://localhost:8080/",
          "height": 244
        },
        "id": "1lFhk0hv9EjH",
        "outputId": "f8de43c1-a0c6-42a9-eb6c-ca3cd95050fb"
      },
      "source": [
        "mask.head()"
      ],
      "execution_count": null,
      "outputs": [
        {
          "output_type": "execute_result",
          "data": {
            "text/html": [
              "<div>\n",
              "<style scoped>\n",
              "    .dataframe tbody tr th:only-of-type {\n",
              "        vertical-align: middle;\n",
              "    }\n",
              "\n",
              "    .dataframe tbody tr th {\n",
              "        vertical-align: top;\n",
              "    }\n",
              "\n",
              "    .dataframe thead th {\n",
              "        text-align: right;\n",
              "    }\n",
              "</style>\n",
              "<table border=\"1\" class=\"dataframe\">\n",
              "  <thead>\n",
              "    <tr style=\"text-align: right;\">\n",
              "      <th></th>\n",
              "      <th>target</th>\n",
              "      <th>0</th>\n",
              "      <th>1</th>\n",
              "      <th>2</th>\n",
              "      <th>3</th>\n",
              "      <th>4</th>\n",
              "      <th>5</th>\n",
              "      <th>6</th>\n",
              "      <th>7</th>\n",
              "      <th>8</th>\n",
              "      <th>9</th>\n",
              "      <th>10</th>\n",
              "      <th>11</th>\n",
              "      <th>12</th>\n",
              "      <th>13</th>\n",
              "      <th>14</th>\n",
              "      <th>15</th>\n",
              "      <th>16</th>\n",
              "      <th>17</th>\n",
              "      <th>18</th>\n",
              "      <th>19</th>\n",
              "      <th>20</th>\n",
              "      <th>21</th>\n",
              "      <th>22</th>\n",
              "      <th>23</th>\n",
              "      <th>24</th>\n",
              "      <th>25</th>\n",
              "      <th>26</th>\n",
              "      <th>27</th>\n",
              "      <th>28</th>\n",
              "      <th>29</th>\n",
              "      <th>30</th>\n",
              "      <th>31</th>\n",
              "      <th>32</th>\n",
              "      <th>33</th>\n",
              "      <th>34</th>\n",
              "      <th>35</th>\n",
              "      <th>36</th>\n",
              "      <th>37</th>\n",
              "      <th>38</th>\n",
              "      <th>...</th>\n",
              "      <th>12248</th>\n",
              "      <th>12249</th>\n",
              "      <th>12250</th>\n",
              "      <th>12251</th>\n",
              "      <th>12252</th>\n",
              "      <th>12253</th>\n",
              "      <th>12254</th>\n",
              "      <th>12255</th>\n",
              "      <th>12256</th>\n",
              "      <th>12257</th>\n",
              "      <th>12258</th>\n",
              "      <th>12259</th>\n",
              "      <th>12260</th>\n",
              "      <th>12261</th>\n",
              "      <th>12262</th>\n",
              "      <th>12263</th>\n",
              "      <th>12264</th>\n",
              "      <th>12265</th>\n",
              "      <th>12266</th>\n",
              "      <th>12267</th>\n",
              "      <th>12268</th>\n",
              "      <th>12269</th>\n",
              "      <th>12270</th>\n",
              "      <th>12271</th>\n",
              "      <th>12272</th>\n",
              "      <th>12273</th>\n",
              "      <th>12274</th>\n",
              "      <th>12275</th>\n",
              "      <th>12276</th>\n",
              "      <th>12277</th>\n",
              "      <th>12278</th>\n",
              "      <th>12279</th>\n",
              "      <th>12280</th>\n",
              "      <th>12281</th>\n",
              "      <th>12282</th>\n",
              "      <th>12283</th>\n",
              "      <th>12284</th>\n",
              "      <th>12285</th>\n",
              "      <th>12286</th>\n",
              "      <th>12287</th>\n",
              "    </tr>\n",
              "  </thead>\n",
              "  <tbody>\n",
              "    <tr>\n",
              "      <th>0</th>\n",
              "      <td>1</td>\n",
              "      <td>187</td>\n",
              "      <td>150</td>\n",
              "      <td>128</td>\n",
              "      <td>177</td>\n",
              "      <td>134</td>\n",
              "      <td>103</td>\n",
              "      <td>168</td>\n",
              "      <td>117</td>\n",
              "      <td>78</td>\n",
              "      <td>152</td>\n",
              "      <td>98</td>\n",
              "      <td>61</td>\n",
              "      <td>126</td>\n",
              "      <td>75</td>\n",
              "      <td>47</td>\n",
              "      <td>105</td>\n",
              "      <td>65</td>\n",
              "      <td>46</td>\n",
              "      <td>89</td>\n",
              "      <td>59</td>\n",
              "      <td>45</td>\n",
              "      <td>78</td>\n",
              "      <td>52</td>\n",
              "      <td>41</td>\n",
              "      <td>62</td>\n",
              "      <td>42</td>\n",
              "      <td>36</td>\n",
              "      <td>46</td>\n",
              "      <td>43</td>\n",
              "      <td>35</td>\n",
              "      <td>35</td>\n",
              "      <td>42</td>\n",
              "      <td>39</td>\n",
              "      <td>24</td>\n",
              "      <td>31</td>\n",
              "      <td>31</td>\n",
              "      <td>20</td>\n",
              "      <td>25</td>\n",
              "      <td>23</td>\n",
              "      <td>...</td>\n",
              "      <td>32</td>\n",
              "      <td>46</td>\n",
              "      <td>39</td>\n",
              "      <td>31</td>\n",
              "      <td>55</td>\n",
              "      <td>43</td>\n",
              "      <td>35</td>\n",
              "      <td>78</td>\n",
              "      <td>63</td>\n",
              "      <td>53</td>\n",
              "      <td>71</td>\n",
              "      <td>58</td>\n",
              "      <td>46</td>\n",
              "      <td>85</td>\n",
              "      <td>70</td>\n",
              "      <td>59</td>\n",
              "      <td>106</td>\n",
              "      <td>88</td>\n",
              "      <td>74</td>\n",
              "      <td>87</td>\n",
              "      <td>63</td>\n",
              "      <td>49</td>\n",
              "      <td>94</td>\n",
              "      <td>63</td>\n",
              "      <td>48</td>\n",
              "      <td>115</td>\n",
              "      <td>78</td>\n",
              "      <td>58</td>\n",
              "      <td>128</td>\n",
              "      <td>88</td>\n",
              "      <td>58</td>\n",
              "      <td>119</td>\n",
              "      <td>77</td>\n",
              "      <td>48</td>\n",
              "      <td>149</td>\n",
              "      <td>104</td>\n",
              "      <td>83</td>\n",
              "      <td>147</td>\n",
              "      <td>103</td>\n",
              "      <td>83</td>\n",
              "    </tr>\n",
              "    <tr>\n",
              "      <th>1</th>\n",
              "      <td>1</td>\n",
              "      <td>195</td>\n",
              "      <td>163</td>\n",
              "      <td>128</td>\n",
              "      <td>212</td>\n",
              "      <td>178</td>\n",
              "      <td>142</td>\n",
              "      <td>223</td>\n",
              "      <td>189</td>\n",
              "      <td>151</td>\n",
              "      <td>228</td>\n",
              "      <td>194</td>\n",
              "      <td>156</td>\n",
              "      <td>228</td>\n",
              "      <td>194</td>\n",
              "      <td>156</td>\n",
              "      <td>227</td>\n",
              "      <td>192</td>\n",
              "      <td>155</td>\n",
              "      <td>225</td>\n",
              "      <td>188</td>\n",
              "      <td>152</td>\n",
              "      <td>220</td>\n",
              "      <td>184</td>\n",
              "      <td>147</td>\n",
              "      <td>213</td>\n",
              "      <td>178</td>\n",
              "      <td>141</td>\n",
              "      <td>208</td>\n",
              "      <td>169</td>\n",
              "      <td>134</td>\n",
              "      <td>186</td>\n",
              "      <td>139</td>\n",
              "      <td>114</td>\n",
              "      <td>152</td>\n",
              "      <td>97</td>\n",
              "      <td>86</td>\n",
              "      <td>130</td>\n",
              "      <td>77</td>\n",
              "      <td>75</td>\n",
              "      <td>...</td>\n",
              "      <td>52</td>\n",
              "      <td>33</td>\n",
              "      <td>22</td>\n",
              "      <td>54</td>\n",
              "      <td>32</td>\n",
              "      <td>21</td>\n",
              "      <td>53</td>\n",
              "      <td>32</td>\n",
              "      <td>21</td>\n",
              "      <td>53</td>\n",
              "      <td>32</td>\n",
              "      <td>21</td>\n",
              "      <td>53</td>\n",
              "      <td>32</td>\n",
              "      <td>21</td>\n",
              "      <td>53</td>\n",
              "      <td>32</td>\n",
              "      <td>21</td>\n",
              "      <td>53</td>\n",
              "      <td>32</td>\n",
              "      <td>21</td>\n",
              "      <td>53</td>\n",
              "      <td>33</td>\n",
              "      <td>20</td>\n",
              "      <td>52</td>\n",
              "      <td>34</td>\n",
              "      <td>20</td>\n",
              "      <td>53</td>\n",
              "      <td>35</td>\n",
              "      <td>21</td>\n",
              "      <td>54</td>\n",
              "      <td>35</td>\n",
              "      <td>22</td>\n",
              "      <td>52</td>\n",
              "      <td>41</td>\n",
              "      <td>27</td>\n",
              "      <td>56</td>\n",
              "      <td>45</td>\n",
              "      <td>29</td>\n",
              "      <td>58</td>\n",
              "    </tr>\n",
              "    <tr>\n",
              "      <th>2</th>\n",
              "      <td>1</td>\n",
              "      <td>59</td>\n",
              "      <td>37</td>\n",
              "      <td>39</td>\n",
              "      <td>58</td>\n",
              "      <td>36</td>\n",
              "      <td>36</td>\n",
              "      <td>73</td>\n",
              "      <td>49</td>\n",
              "      <td>49</td>\n",
              "      <td>85</td>\n",
              "      <td>59</td>\n",
              "      <td>59</td>\n",
              "      <td>85</td>\n",
              "      <td>57</td>\n",
              "      <td>56</td>\n",
              "      <td>83</td>\n",
              "      <td>53</td>\n",
              "      <td>52</td>\n",
              "      <td>75</td>\n",
              "      <td>46</td>\n",
              "      <td>45</td>\n",
              "      <td>66</td>\n",
              "      <td>40</td>\n",
              "      <td>41</td>\n",
              "      <td>72</td>\n",
              "      <td>51</td>\n",
              "      <td>50</td>\n",
              "      <td>70</td>\n",
              "      <td>50</td>\n",
              "      <td>49</td>\n",
              "      <td>64</td>\n",
              "      <td>43</td>\n",
              "      <td>42</td>\n",
              "      <td>74</td>\n",
              "      <td>53</td>\n",
              "      <td>52</td>\n",
              "      <td>76</td>\n",
              "      <td>53</td>\n",
              "      <td>53</td>\n",
              "      <td>...</td>\n",
              "      <td>100</td>\n",
              "      <td>154</td>\n",
              "      <td>104</td>\n",
              "      <td>100</td>\n",
              "      <td>158</td>\n",
              "      <td>106</td>\n",
              "      <td>101</td>\n",
              "      <td>169</td>\n",
              "      <td>116</td>\n",
              "      <td>105</td>\n",
              "      <td>175</td>\n",
              "      <td>125</td>\n",
              "      <td>110</td>\n",
              "      <td>179</td>\n",
              "      <td>133</td>\n",
              "      <td>119</td>\n",
              "      <td>183</td>\n",
              "      <td>144</td>\n",
              "      <td>130</td>\n",
              "      <td>182</td>\n",
              "      <td>151</td>\n",
              "      <td>137</td>\n",
              "      <td>183</td>\n",
              "      <td>161</td>\n",
              "      <td>147</td>\n",
              "      <td>188</td>\n",
              "      <td>171</td>\n",
              "      <td>160</td>\n",
              "      <td>191</td>\n",
              "      <td>177</td>\n",
              "      <td>170</td>\n",
              "      <td>188</td>\n",
              "      <td>183</td>\n",
              "      <td>177</td>\n",
              "      <td>214</td>\n",
              "      <td>221</td>\n",
              "      <td>213</td>\n",
              "      <td>211</td>\n",
              "      <td>227</td>\n",
              "      <td>217</td>\n",
              "    </tr>\n",
              "    <tr>\n",
              "      <th>3</th>\n",
              "      <td>1</td>\n",
              "      <td>58</td>\n",
              "      <td>45</td>\n",
              "      <td>36</td>\n",
              "      <td>51</td>\n",
              "      <td>38</td>\n",
              "      <td>33</td>\n",
              "      <td>44</td>\n",
              "      <td>33</td>\n",
              "      <td>29</td>\n",
              "      <td>47</td>\n",
              "      <td>37</td>\n",
              "      <td>33</td>\n",
              "      <td>56</td>\n",
              "      <td>47</td>\n",
              "      <td>42</td>\n",
              "      <td>52</td>\n",
              "      <td>42</td>\n",
              "      <td>38</td>\n",
              "      <td>49</td>\n",
              "      <td>37</td>\n",
              "      <td>36</td>\n",
              "      <td>42</td>\n",
              "      <td>31</td>\n",
              "      <td>29</td>\n",
              "      <td>40</td>\n",
              "      <td>29</td>\n",
              "      <td>28</td>\n",
              "      <td>38</td>\n",
              "      <td>29</td>\n",
              "      <td>29</td>\n",
              "      <td>36</td>\n",
              "      <td>28</td>\n",
              "      <td>29</td>\n",
              "      <td>37</td>\n",
              "      <td>28</td>\n",
              "      <td>30</td>\n",
              "      <td>36</td>\n",
              "      <td>28</td>\n",
              "      <td>30</td>\n",
              "      <td>...</td>\n",
              "      <td>96</td>\n",
              "      <td>120</td>\n",
              "      <td>85</td>\n",
              "      <td>78</td>\n",
              "      <td>99</td>\n",
              "      <td>66</td>\n",
              "      <td>60</td>\n",
              "      <td>78</td>\n",
              "      <td>49</td>\n",
              "      <td>45</td>\n",
              "      <td>54</td>\n",
              "      <td>31</td>\n",
              "      <td>32</td>\n",
              "      <td>90</td>\n",
              "      <td>77</td>\n",
              "      <td>86</td>\n",
              "      <td>154</td>\n",
              "      <td>150</td>\n",
              "      <td>172</td>\n",
              "      <td>203</td>\n",
              "      <td>203</td>\n",
              "      <td>228</td>\n",
              "      <td>81</td>\n",
              "      <td>71</td>\n",
              "      <td>79</td>\n",
              "      <td>207</td>\n",
              "      <td>173</td>\n",
              "      <td>181</td>\n",
              "      <td>208</td>\n",
              "      <td>152</td>\n",
              "      <td>159</td>\n",
              "      <td>106</td>\n",
              "      <td>79</td>\n",
              "      <td>77</td>\n",
              "      <td>113</td>\n",
              "      <td>112</td>\n",
              "      <td>110</td>\n",
              "      <td>201</td>\n",
              "      <td>106</td>\n",
              "      <td>107</td>\n",
              "    </tr>\n",
              "    <tr>\n",
              "      <th>4</th>\n",
              "      <td>1</td>\n",
              "      <td>30</td>\n",
              "      <td>26</td>\n",
              "      <td>26</td>\n",
              "      <td>31</td>\n",
              "      <td>26</td>\n",
              "      <td>26</td>\n",
              "      <td>32</td>\n",
              "      <td>26</td>\n",
              "      <td>25</td>\n",
              "      <td>37</td>\n",
              "      <td>31</td>\n",
              "      <td>30</td>\n",
              "      <td>40</td>\n",
              "      <td>34</td>\n",
              "      <td>32</td>\n",
              "      <td>38</td>\n",
              "      <td>31</td>\n",
              "      <td>30</td>\n",
              "      <td>35</td>\n",
              "      <td>29</td>\n",
              "      <td>28</td>\n",
              "      <td>33</td>\n",
              "      <td>28</td>\n",
              "      <td>27</td>\n",
              "      <td>32</td>\n",
              "      <td>27</td>\n",
              "      <td>28</td>\n",
              "      <td>26</td>\n",
              "      <td>24</td>\n",
              "      <td>27</td>\n",
              "      <td>23</td>\n",
              "      <td>24</td>\n",
              "      <td>26</td>\n",
              "      <td>24</td>\n",
              "      <td>24</td>\n",
              "      <td>28</td>\n",
              "      <td>25</td>\n",
              "      <td>24</td>\n",
              "      <td>29</td>\n",
              "      <td>...</td>\n",
              "      <td>255</td>\n",
              "      <td>221</td>\n",
              "      <td>229</td>\n",
              "      <td>255</td>\n",
              "      <td>218</td>\n",
              "      <td>225</td>\n",
              "      <td>255</td>\n",
              "      <td>214</td>\n",
              "      <td>221</td>\n",
              "      <td>255</td>\n",
              "      <td>212</td>\n",
              "      <td>221</td>\n",
              "      <td>255</td>\n",
              "      <td>219</td>\n",
              "      <td>229</td>\n",
              "      <td>255</td>\n",
              "      <td>225</td>\n",
              "      <td>235</td>\n",
              "      <td>255</td>\n",
              "      <td>224</td>\n",
              "      <td>235</td>\n",
              "      <td>255</td>\n",
              "      <td>222</td>\n",
              "      <td>235</td>\n",
              "      <td>255</td>\n",
              "      <td>222</td>\n",
              "      <td>235</td>\n",
              "      <td>255</td>\n",
              "      <td>222</td>\n",
              "      <td>236</td>\n",
              "      <td>255</td>\n",
              "      <td>224</td>\n",
              "      <td>236</td>\n",
              "      <td>255</td>\n",
              "      <td>226</td>\n",
              "      <td>237</td>\n",
              "      <td>255</td>\n",
              "      <td>225</td>\n",
              "      <td>236</td>\n",
              "      <td>255</td>\n",
              "    </tr>\n",
              "  </tbody>\n",
              "</table>\n",
              "<p>5 rows × 12289 columns</p>\n",
              "</div>"
            ],
            "text/plain": [
              "   target    0    1    2    3    4  ...  12282  12283  12284  12285  12286  12287\n",
              "0       1  187  150  128  177  134  ...    149    104     83    147    103     83\n",
              "1       1  195  163  128  212  178  ...     41     27     56     45     29     58\n",
              "2       1   59   37   39   58   36  ...    214    221    213    211    227    217\n",
              "3       1   58   45   36   51   38  ...    113    112    110    201    106    107\n",
              "4       1   30   26   26   31   26  ...    226    237    255    225    236    255\n",
              "\n",
              "[5 rows x 12289 columns]"
            ]
          },
          "metadata": {
            "tags": []
          },
          "execution_count": 28
        }
      ]
    },
    {
      "cell_type": "code",
      "metadata": {
        "id": "MfPl_Vs6AmWW"
      },
      "source": [
        "#concatenating unmasked and masked data\n",
        "df = pd.concat([unmask,mask])"
      ],
      "execution_count": null,
      "outputs": []
    },
    {
      "cell_type": "code",
      "metadata": {
        "id": "OmF6L4TtAmX9"
      },
      "source": [
        "#shuffling data to avoid bias\n",
        "df = df.sample(frac=1).reset_index(drop=True)"
      ],
      "execution_count": null,
      "outputs": []
    },
    {
      "cell_type": "code",
      "metadata": {
        "id": "zZOwKlR0H4ak"
      },
      "source": [
        "# standard scaling the data\n",
        "from sklearn.preprocessing import StandardScaler\n",
        "scaler = StandardScaler()\n",
        "df.iloc[:,1:] = scaler.fit_transform(df.iloc[:,1:])"
      ],
      "execution_count": null,
      "outputs": []
    },
    {
      "cell_type": "code",
      "metadata": {
        "id": "7UIwtXy_Amif"
      },
      "source": [
        "#separate the target variable\n",
        "x = df.iloc[:,1:]\n",
        "y = df.iloc[:,0]"
      ],
      "execution_count": null,
      "outputs": []
    },
    {
      "cell_type": "markdown",
      "metadata": {
        "id": "PBFUSBWPO21i"
      },
      "source": [
        "with dimensionality reduction"
      ]
    },
    {
      "cell_type": "code",
      "metadata": {
        "id": "ax7IrngqHkEI"
      },
      "source": [
        "#apply PCA\n",
        "from sklearn.decomposition import PCA\n",
        "pc = PCA().fit(x,y)"
      ],
      "execution_count": null,
      "outputs": []
    },
    {
      "cell_type": "code",
      "metadata": {
        "colab": {
          "base_uri": "https://localhost:8080/",
          "height": 296
        },
        "id": "MPlTJoQgKeAp",
        "outputId": "e9f50d8f-fd4e-44f0-9c59-68de50147541"
      },
      "source": [
        "#plotting data variance vs n_components\n",
        "plt.plot(np.cumsum(pc.explained_variance_ratio_))\n",
        "plt.xlabel('number of components')\n",
        "plt.ylabel('cumulative explained variance')"
      ],
      "execution_count": null,
      "outputs": [
        {
          "output_type": "execute_result",
          "data": {
            "text/plain": [
              "Text(0, 0.5, 'cumulative explained variance')"
            ]
          },
          "metadata": {
            "tags": []
          },
          "execution_count": 162
        },
        {
          "output_type": "display_data",
          "data": {
            "image/png": "[encoded data removed]",
            "text/plain": [
              "<Figure size 432x288 with 1 Axes>"
            ]
          },
          "metadata": {
            "tags": []
          }
        }
      ]
    },
    {
      "cell_type": "code",
      "metadata": {
        "id": "AHvo5zlqQEY8"
      },
      "source": [
        "#fitting and transforming the data with 500 components\n",
        "pc = PCA(n_components=500)\n",
        "pca = pc.fit(x,y).transform(x)"
      ],
      "execution_count": null,
      "outputs": []
    },
    {
      "cell_type": "code",
      "metadata": {
        "colab": {
          "base_uri": "https://localhost:8080/"
        },
        "id": "aiwdy4BpQqdJ",
        "outputId": "dee7d5b5-fba4-4992-bf99-ffabe9387bec"
      },
      "source": [
        "np.sum(pc.explained_variance_ratio_)"
      ],
      "execution_count": null,
      "outputs": [
        {
          "output_type": "execute_result",
          "data": {
            "text/plain": [
              "0.987876346820614"
            ]
          },
          "metadata": {
            "tags": []
          },
          "execution_count": 172
        }
      ]
    },
    {
      "cell_type": "code",
      "metadata": {
        "colab": {
          "base_uri": "https://localhost:8080/",
          "height": 244
        },
        "id": "yjE4VcYJRg0o",
        "outputId": "cc970633-1b53-4800-e534-6d08ca92641a"
      },
      "source": [
        "x = pd.DataFrame(pca)\n",
        "x.head()"
      ],
      "execution_count": null,
      "outputs": [
        {
          "output_type": "execute_result",
          "data": {
            "text/html": [
              "<div>\n",
              "<style scoped>\n",
              "    .dataframe tbody tr th:only-of-type {\n",
              "        vertical-align: middle;\n",
              "    }\n",
              "\n",
              "    .dataframe tbody tr th {\n",
              "        vertical-align: top;\n",
              "    }\n",
              "\n",
              "    .dataframe thead th {\n",
              "        text-align: right;\n",
              "    }\n",
              "</style>\n",
              "<table border=\"1\" class=\"dataframe\">\n",
              "  <thead>\n",
              "    <tr style=\"text-align: right;\">\n",
              "      <th></th>\n",
              "      <th>0</th>\n",
              "      <th>1</th>\n",
              "      <th>2</th>\n",
              "      <th>3</th>\n",
              "      <th>4</th>\n",
              "      <th>5</th>\n",
              "      <th>6</th>\n",
              "      <th>7</th>\n",
              "      <th>8</th>\n",
              "      <th>9</th>\n",
              "      <th>10</th>\n",
              "      <th>11</th>\n",
              "      <th>12</th>\n",
              "      <th>13</th>\n",
              "      <th>14</th>\n",
              "      <th>15</th>\n",
              "      <th>16</th>\n",
              "      <th>17</th>\n",
              "      <th>18</th>\n",
              "      <th>19</th>\n",
              "      <th>20</th>\n",
              "      <th>21</th>\n",
              "      <th>22</th>\n",
              "      <th>23</th>\n",
              "      <th>24</th>\n",
              "      <th>25</th>\n",
              "      <th>26</th>\n",
              "      <th>27</th>\n",
              "      <th>28</th>\n",
              "      <th>29</th>\n",
              "      <th>30</th>\n",
              "      <th>31</th>\n",
              "      <th>32</th>\n",
              "      <th>33</th>\n",
              "      <th>34</th>\n",
              "      <th>35</th>\n",
              "      <th>36</th>\n",
              "      <th>37</th>\n",
              "      <th>38</th>\n",
              "      <th>39</th>\n",
              "      <th>...</th>\n",
              "      <th>460</th>\n",
              "      <th>461</th>\n",
              "      <th>462</th>\n",
              "      <th>463</th>\n",
              "      <th>464</th>\n",
              "      <th>465</th>\n",
              "      <th>466</th>\n",
              "      <th>467</th>\n",
              "      <th>468</th>\n",
              "      <th>469</th>\n",
              "      <th>470</th>\n",
              "      <th>471</th>\n",
              "      <th>472</th>\n",
              "      <th>473</th>\n",
              "      <th>474</th>\n",
              "      <th>475</th>\n",
              "      <th>476</th>\n",
              "      <th>477</th>\n",
              "      <th>478</th>\n",
              "      <th>479</th>\n",
              "      <th>480</th>\n",
              "      <th>481</th>\n",
              "      <th>482</th>\n",
              "      <th>483</th>\n",
              "      <th>484</th>\n",
              "      <th>485</th>\n",
              "      <th>486</th>\n",
              "      <th>487</th>\n",
              "      <th>488</th>\n",
              "      <th>489</th>\n",
              "      <th>490</th>\n",
              "      <th>491</th>\n",
              "      <th>492</th>\n",
              "      <th>493</th>\n",
              "      <th>494</th>\n",
              "      <th>495</th>\n",
              "      <th>496</th>\n",
              "      <th>497</th>\n",
              "      <th>498</th>\n",
              "      <th>499</th>\n",
              "    </tr>\n",
              "  </thead>\n",
              "  <tbody>\n",
              "    <tr>\n",
              "      <th>0</th>\n",
              "      <td>-84.078966</td>\n",
              "      <td>8.129117</td>\n",
              "      <td>-30.890874</td>\n",
              "      <td>-18.345172</td>\n",
              "      <td>-28.030394</td>\n",
              "      <td>7.121796</td>\n",
              "      <td>25.799737</td>\n",
              "      <td>5.963874</td>\n",
              "      <td>9.331851</td>\n",
              "      <td>15.995789</td>\n",
              "      <td>4.831944</td>\n",
              "      <td>7.390277</td>\n",
              "      <td>14.373351</td>\n",
              "      <td>-7.164171</td>\n",
              "      <td>3.945956</td>\n",
              "      <td>6.846211</td>\n",
              "      <td>-4.908315</td>\n",
              "      <td>1.120354</td>\n",
              "      <td>-2.301526</td>\n",
              "      <td>4.874449</td>\n",
              "      <td>7.392526</td>\n",
              "      <td>-5.305743</td>\n",
              "      <td>-1.977082</td>\n",
              "      <td>3.968024</td>\n",
              "      <td>15.239750</td>\n",
              "      <td>8.007184</td>\n",
              "      <td>0.954064</td>\n",
              "      <td>-4.080778</td>\n",
              "      <td>3.874598</td>\n",
              "      <td>-1.649931</td>\n",
              "      <td>-12.519792</td>\n",
              "      <td>6.314233</td>\n",
              "      <td>3.712009</td>\n",
              "      <td>-3.531685</td>\n",
              "      <td>-9.956587</td>\n",
              "      <td>-6.308463</td>\n",
              "      <td>1.413435</td>\n",
              "      <td>1.875734</td>\n",
              "      <td>5.399851</td>\n",
              "      <td>-6.983632</td>\n",
              "      <td>...</td>\n",
              "      <td>-0.263123</td>\n",
              "      <td>-0.357393</td>\n",
              "      <td>-0.827144</td>\n",
              "      <td>0.187830</td>\n",
              "      <td>0.474954</td>\n",
              "      <td>1.083036</td>\n",
              "      <td>-0.052126</td>\n",
              "      <td>-1.002998</td>\n",
              "      <td>0.878120</td>\n",
              "      <td>0.725286</td>\n",
              "      <td>0.377219</td>\n",
              "      <td>-0.251438</td>\n",
              "      <td>0.274697</td>\n",
              "      <td>1.182372</td>\n",
              "      <td>-1.390948</td>\n",
              "      <td>1.005063</td>\n",
              "      <td>-0.441766</td>\n",
              "      <td>-0.871616</td>\n",
              "      <td>0.832302</td>\n",
              "      <td>0.143053</td>\n",
              "      <td>-2.269504</td>\n",
              "      <td>-0.586409</td>\n",
              "      <td>1.316527</td>\n",
              "      <td>-0.336183</td>\n",
              "      <td>1.231757</td>\n",
              "      <td>0.304250</td>\n",
              "      <td>0.089893</td>\n",
              "      <td>-0.126961</td>\n",
              "      <td>-0.719620</td>\n",
              "      <td>-0.971520</td>\n",
              "      <td>0.903899</td>\n",
              "      <td>-0.311677</td>\n",
              "      <td>-0.527779</td>\n",
              "      <td>-0.949031</td>\n",
              "      <td>0.673448</td>\n",
              "      <td>0.020030</td>\n",
              "      <td>-0.354526</td>\n",
              "      <td>0.708779</td>\n",
              "      <td>-0.377558</td>\n",
              "      <td>-0.060941</td>\n",
              "    </tr>\n",
              "    <tr>\n",
              "      <th>1</th>\n",
              "      <td>-50.404018</td>\n",
              "      <td>44.538868</td>\n",
              "      <td>-21.586592</td>\n",
              "      <td>-33.478051</td>\n",
              "      <td>3.216078</td>\n",
              "      <td>25.028781</td>\n",
              "      <td>13.716035</td>\n",
              "      <td>2.523839</td>\n",
              "      <td>4.951964</td>\n",
              "      <td>-13.071841</td>\n",
              "      <td>-17.065729</td>\n",
              "      <td>6.798309</td>\n",
              "      <td>-20.764223</td>\n",
              "      <td>-15.941030</td>\n",
              "      <td>15.870146</td>\n",
              "      <td>14.295506</td>\n",
              "      <td>9.457423</td>\n",
              "      <td>4.814106</td>\n",
              "      <td>12.398475</td>\n",
              "      <td>10.933055</td>\n",
              "      <td>-8.137047</td>\n",
              "      <td>-1.176197</td>\n",
              "      <td>-0.235682</td>\n",
              "      <td>-0.071100</td>\n",
              "      <td>5.755251</td>\n",
              "      <td>6.217748</td>\n",
              "      <td>4.627647</td>\n",
              "      <td>5.796319</td>\n",
              "      <td>1.744781</td>\n",
              "      <td>11.752994</td>\n",
              "      <td>10.471963</td>\n",
              "      <td>-15.886146</td>\n",
              "      <td>-3.475217</td>\n",
              "      <td>10.777821</td>\n",
              "      <td>-0.769828</td>\n",
              "      <td>6.592055</td>\n",
              "      <td>5.568300</td>\n",
              "      <td>3.640188</td>\n",
              "      <td>9.250274</td>\n",
              "      <td>4.099653</td>\n",
              "      <td>...</td>\n",
              "      <td>0.231003</td>\n",
              "      <td>0.269498</td>\n",
              "      <td>0.527466</td>\n",
              "      <td>-1.362715</td>\n",
              "      <td>0.025159</td>\n",
              "      <td>0.566526</td>\n",
              "      <td>-0.180929</td>\n",
              "      <td>-0.117883</td>\n",
              "      <td>-0.689534</td>\n",
              "      <td>-1.355261</td>\n",
              "      <td>-0.378740</td>\n",
              "      <td>-0.124000</td>\n",
              "      <td>0.794205</td>\n",
              "      <td>-0.213402</td>\n",
              "      <td>1.484369</td>\n",
              "      <td>0.274850</td>\n",
              "      <td>0.157806</td>\n",
              "      <td>-0.843581</td>\n",
              "      <td>0.343080</td>\n",
              "      <td>0.510525</td>\n",
              "      <td>-0.769061</td>\n",
              "      <td>-1.143702</td>\n",
              "      <td>0.415635</td>\n",
              "      <td>0.741480</td>\n",
              "      <td>-1.961477</td>\n",
              "      <td>0.678656</td>\n",
              "      <td>-0.202731</td>\n",
              "      <td>0.099016</td>\n",
              "      <td>-1.266593</td>\n",
              "      <td>0.468823</td>\n",
              "      <td>-0.112468</td>\n",
              "      <td>0.125269</td>\n",
              "      <td>0.295411</td>\n",
              "      <td>0.439678</td>\n",
              "      <td>-0.614063</td>\n",
              "      <td>-0.751730</td>\n",
              "      <td>0.274777</td>\n",
              "      <td>-0.139576</td>\n",
              "      <td>0.002349</td>\n",
              "      <td>0.523909</td>\n",
              "    </tr>\n",
              "    <tr>\n",
              "      <th>2</th>\n",
              "      <td>-76.152598</td>\n",
              "      <td>60.469126</td>\n",
              "      <td>37.397452</td>\n",
              "      <td>-3.602005</td>\n",
              "      <td>55.498053</td>\n",
              "      <td>-4.872573</td>\n",
              "      <td>-27.483397</td>\n",
              "      <td>1.748199</td>\n",
              "      <td>-9.713898</td>\n",
              "      <td>1.024454</td>\n",
              "      <td>0.199360</td>\n",
              "      <td>-6.209407</td>\n",
              "      <td>5.117265</td>\n",
              "      <td>7.602941</td>\n",
              "      <td>7.035994</td>\n",
              "      <td>-0.004272</td>\n",
              "      <td>1.028012</td>\n",
              "      <td>4.770712</td>\n",
              "      <td>-2.564730</td>\n",
              "      <td>-14.563051</td>\n",
              "      <td>-13.741018</td>\n",
              "      <td>1.223264</td>\n",
              "      <td>-0.874668</td>\n",
              "      <td>-4.225064</td>\n",
              "      <td>6.066923</td>\n",
              "      <td>-2.141541</td>\n",
              "      <td>-12.475380</td>\n",
              "      <td>-6.535188</td>\n",
              "      <td>-3.117977</td>\n",
              "      <td>7.279253</td>\n",
              "      <td>2.668228</td>\n",
              "      <td>-5.623348</td>\n",
              "      <td>-1.349688</td>\n",
              "      <td>-1.188502</td>\n",
              "      <td>-2.621404</td>\n",
              "      <td>4.067820</td>\n",
              "      <td>10.947619</td>\n",
              "      <td>-5.134913</td>\n",
              "      <td>1.699032</td>\n",
              "      <td>8.723272</td>\n",
              "      <td>...</td>\n",
              "      <td>0.431580</td>\n",
              "      <td>0.484143</td>\n",
              "      <td>-0.169254</td>\n",
              "      <td>-1.078315</td>\n",
              "      <td>-1.235782</td>\n",
              "      <td>-0.270522</td>\n",
              "      <td>-0.718318</td>\n",
              "      <td>-0.489952</td>\n",
              "      <td>0.212444</td>\n",
              "      <td>0.274879</td>\n",
              "      <td>-1.516746</td>\n",
              "      <td>0.113771</td>\n",
              "      <td>0.316826</td>\n",
              "      <td>-0.236731</td>\n",
              "      <td>-0.087903</td>\n",
              "      <td>-0.143305</td>\n",
              "      <td>0.445484</td>\n",
              "      <td>-1.126577</td>\n",
              "      <td>0.170087</td>\n",
              "      <td>0.033497</td>\n",
              "      <td>-0.159081</td>\n",
              "      <td>0.773248</td>\n",
              "      <td>-0.013723</td>\n",
              "      <td>-1.436696</td>\n",
              "      <td>0.461096</td>\n",
              "      <td>0.548213</td>\n",
              "      <td>-0.455286</td>\n",
              "      <td>-0.306465</td>\n",
              "      <td>-0.354726</td>\n",
              "      <td>-0.542484</td>\n",
              "      <td>-1.512199</td>\n",
              "      <td>-0.662326</td>\n",
              "      <td>0.508528</td>\n",
              "      <td>-0.338589</td>\n",
              "      <td>0.012593</td>\n",
              "      <td>-1.144874</td>\n",
              "      <td>-0.531034</td>\n",
              "      <td>1.164704</td>\n",
              "      <td>-0.158685</td>\n",
              "      <td>0.211795</td>\n",
              "    </tr>\n",
              "    <tr>\n",
              "      <th>3</th>\n",
              "      <td>-55.377776</td>\n",
              "      <td>38.779756</td>\n",
              "      <td>-7.090174</td>\n",
              "      <td>-0.512134</td>\n",
              "      <td>0.955761</td>\n",
              "      <td>3.669050</td>\n",
              "      <td>35.368133</td>\n",
              "      <td>14.477017</td>\n",
              "      <td>-11.049409</td>\n",
              "      <td>7.584464</td>\n",
              "      <td>-12.432293</td>\n",
              "      <td>-20.359062</td>\n",
              "      <td>18.495580</td>\n",
              "      <td>24.553993</td>\n",
              "      <td>-9.573143</td>\n",
              "      <td>5.411485</td>\n",
              "      <td>0.566656</td>\n",
              "      <td>6.686348</td>\n",
              "      <td>24.056664</td>\n",
              "      <td>-0.856587</td>\n",
              "      <td>3.236479</td>\n",
              "      <td>12.909313</td>\n",
              "      <td>8.812206</td>\n",
              "      <td>3.979332</td>\n",
              "      <td>-3.655959</td>\n",
              "      <td>-2.785921</td>\n",
              "      <td>18.175208</td>\n",
              "      <td>-9.335818</td>\n",
              "      <td>0.284569</td>\n",
              "      <td>-5.017275</td>\n",
              "      <td>-7.173653</td>\n",
              "      <td>3.972611</td>\n",
              "      <td>7.447414</td>\n",
              "      <td>-3.843492</td>\n",
              "      <td>-0.512019</td>\n",
              "      <td>1.889239</td>\n",
              "      <td>5.258428</td>\n",
              "      <td>-6.499795</td>\n",
              "      <td>0.863430</td>\n",
              "      <td>5.357344</td>\n",
              "      <td>...</td>\n",
              "      <td>0.550523</td>\n",
              "      <td>1.170442</td>\n",
              "      <td>-1.430269</td>\n",
              "      <td>0.032696</td>\n",
              "      <td>0.252034</td>\n",
              "      <td>0.111988</td>\n",
              "      <td>0.050515</td>\n",
              "      <td>-0.112459</td>\n",
              "      <td>-0.694750</td>\n",
              "      <td>0.306955</td>\n",
              "      <td>1.165294</td>\n",
              "      <td>-0.332907</td>\n",
              "      <td>-0.388071</td>\n",
              "      <td>-1.353197</td>\n",
              "      <td>-0.533036</td>\n",
              "      <td>0.232550</td>\n",
              "      <td>-0.047841</td>\n",
              "      <td>0.013195</td>\n",
              "      <td>-0.140165</td>\n",
              "      <td>0.355443</td>\n",
              "      <td>-0.993977</td>\n",
              "      <td>0.666575</td>\n",
              "      <td>-0.361255</td>\n",
              "      <td>-0.330352</td>\n",
              "      <td>-0.364399</td>\n",
              "      <td>-0.014326</td>\n",
              "      <td>0.294279</td>\n",
              "      <td>-0.793868</td>\n",
              "      <td>-0.675504</td>\n",
              "      <td>-0.788733</td>\n",
              "      <td>-0.555819</td>\n",
              "      <td>-0.498347</td>\n",
              "      <td>-0.221322</td>\n",
              "      <td>-0.417391</td>\n",
              "      <td>0.183082</td>\n",
              "      <td>-0.222050</td>\n",
              "      <td>0.417979</td>\n",
              "      <td>-0.280168</td>\n",
              "      <td>0.190965</td>\n",
              "      <td>-0.950612</td>\n",
              "    </tr>\n",
              "    <tr>\n",
              "      <th>4</th>\n",
              "      <td>10.910697</td>\n",
              "      <td>4.813887</td>\n",
              "      <td>-18.281730</td>\n",
              "      <td>-39.105773</td>\n",
              "      <td>-8.501209</td>\n",
              "      <td>23.108450</td>\n",
              "      <td>3.909865</td>\n",
              "      <td>-12.643397</td>\n",
              "      <td>-4.411848</td>\n",
              "      <td>6.617658</td>\n",
              "      <td>6.462435</td>\n",
              "      <td>7.748942</td>\n",
              "      <td>6.935590</td>\n",
              "      <td>1.837665</td>\n",
              "      <td>-2.948940</td>\n",
              "      <td>-12.741352</td>\n",
              "      <td>-10.621316</td>\n",
              "      <td>-7.801274</td>\n",
              "      <td>4.847909</td>\n",
              "      <td>3.824723</td>\n",
              "      <td>-1.886026</td>\n",
              "      <td>11.223497</td>\n",
              "      <td>1.632956</td>\n",
              "      <td>1.709135</td>\n",
              "      <td>-3.367105</td>\n",
              "      <td>-0.085177</td>\n",
              "      <td>-0.044254</td>\n",
              "      <td>-2.620700</td>\n",
              "      <td>3.919418</td>\n",
              "      <td>-2.335721</td>\n",
              "      <td>1.885717</td>\n",
              "      <td>1.738695</td>\n",
              "      <td>2.875047</td>\n",
              "      <td>-6.492720</td>\n",
              "      <td>5.196970</td>\n",
              "      <td>-4.673491</td>\n",
              "      <td>-4.391221</td>\n",
              "      <td>6.620769</td>\n",
              "      <td>-8.235113</td>\n",
              "      <td>-4.212743</td>\n",
              "      <td>...</td>\n",
              "      <td>0.827968</td>\n",
              "      <td>-0.063552</td>\n",
              "      <td>0.182984</td>\n",
              "      <td>0.088063</td>\n",
              "      <td>0.497967</td>\n",
              "      <td>0.651896</td>\n",
              "      <td>0.299106</td>\n",
              "      <td>0.734729</td>\n",
              "      <td>0.439189</td>\n",
              "      <td>-0.104701</td>\n",
              "      <td>-0.466259</td>\n",
              "      <td>1.295976</td>\n",
              "      <td>0.582485</td>\n",
              "      <td>0.267299</td>\n",
              "      <td>-0.143422</td>\n",
              "      <td>-0.038226</td>\n",
              "      <td>0.579870</td>\n",
              "      <td>0.400565</td>\n",
              "      <td>0.787772</td>\n",
              "      <td>0.184527</td>\n",
              "      <td>-0.530121</td>\n",
              "      <td>-0.176810</td>\n",
              "      <td>0.494961</td>\n",
              "      <td>-0.346437</td>\n",
              "      <td>-0.388459</td>\n",
              "      <td>0.012240</td>\n",
              "      <td>0.255080</td>\n",
              "      <td>0.741443</td>\n",
              "      <td>-0.218610</td>\n",
              "      <td>0.058037</td>\n",
              "      <td>0.107452</td>\n",
              "      <td>-0.444641</td>\n",
              "      <td>-0.604729</td>\n",
              "      <td>0.158245</td>\n",
              "      <td>-0.474536</td>\n",
              "      <td>0.221555</td>\n",
              "      <td>0.368643</td>\n",
              "      <td>0.399690</td>\n",
              "      <td>-0.215923</td>\n",
              "      <td>-0.381182</td>\n",
              "    </tr>\n",
              "  </tbody>\n",
              "</table>\n",
              "<p>5 rows × 500 columns</p>\n",
              "</div>"
            ],
            "text/plain": [
              "         0          1          2    ...       497       498       499\n",
              "0 -84.078966   8.129117 -30.890874  ...  0.708779 -0.377558 -0.060941\n",
              "1 -50.404018  44.538868 -21.586592  ... -0.139576  0.002349  0.523909\n",
              "2 -76.152598  60.469126  37.397452  ...  1.164704 -0.158685  0.211795\n",
              "3 -55.377776  38.779756  -7.090174  ... -0.280168  0.190965 -0.950612\n",
              "4  10.910697   4.813887 -18.281730  ...  0.399690 -0.215923 -0.381182\n",
              "\n",
              "[5 rows x 500 columns]"
            ]
          },
          "metadata": {
            "tags": []
          },
          "execution_count": 173
        }
      ]
    },
    {
      "cell_type": "code",
      "metadata": {
        "id": "tEIY43fKAmkS"
      },
      "source": [
        "#splitting data into train and test in the ratio 1:1\n",
        "x_train,x_test,y_train,y_test = train_test_split(x,y,test_size=0.5)"
      ],
      "execution_count": null,
      "outputs": []
    },
    {
      "cell_type": "code",
      "metadata": {
        "id": "P9LS3cO1Rp0L"
      },
      "source": [
        "from sklearn.metrics import accuracy_score"
      ],
      "execution_count": null,
      "outputs": []
    },
    {
      "cell_type": "code",
      "metadata": {
        "id": "8o5wtRtpLHbb"
      },
      "source": [
        "#model the random forest classifier\n",
        "from sklearn.ensemble import RandomForestClassifier\n",
        "rf_model = RandomForestClassifier(random_state=1)"
      ],
      "execution_count": null,
      "outputs": []
    },
    {
      "cell_type": "code",
      "metadata": {
        "colab": {
          "base_uri": "https://localhost:8080/"
        },
        "id": "VjtPSRGMLHfJ",
        "outputId": "c444e7a0-7402-4da9-f7a9-7157a924e6ce"
      },
      "source": [
        "#perform gridsearchcv for bes parameters\n",
        "from sklearn.model_selection import GridSearchCV\n",
        "params = { \n",
        "    'max_features': ['sqrt', 'log2'],\n",
        "    'max_depth' : [6,8,10],\n",
        "    'min_samples_leaf': [8,10,13],\n",
        "}\n",
        "gs = GridSearchCV(estimator=rf_model, param_grid=params, cv= 5)\n",
        "gs.fit(x_train, y_train)"
      ],
      "execution_count": null,
      "outputs": [
        {
          "output_type": "execute_result",
          "data": {
            "text/plain": [
              "GridSearchCV(cv=5, error_score=nan,\n",
              "             estimator=RandomForestClassifier(bootstrap=True, ccp_alpha=0.0,\n",
              "                                              class_weight=None,\n",
              "                                              criterion='gini', max_depth=10,\n",
              "                                              max_features='sqrt',\n",
              "                                              max_leaf_nodes=None,\n",
              "                                              max_samples=None,\n",
              "                                              min_impurity_decrease=0.0,\n",
              "                                              min_impurity_split=None,\n",
              "                                              min_samples_leaf=8,\n",
              "                                              min_samples_split=2,\n",
              "                                              min_weight_fraction_leaf=0.0,\n",
              "                                              n_estimators=100, n_jobs=None,\n",
              "                                              oob_score=False, random_state=1,\n",
              "                                              verbose=0, warm_start=False),\n",
              "             iid='deprecated', n_jobs=None,\n",
              "             param_grid={'max_depth': [6, 8, 10],\n",
              "                         'max_features': ['sqrt', 'log2'],\n",
              "                         'min_samples_leaf': [8, 10, 13]},\n",
              "             pre_dispatch='2*n_jobs', refit=True, return_train_score=False,\n",
              "             scoring=None, verbose=0)"
            ]
          },
          "metadata": {
            "tags": []
          },
          "execution_count": 180
        }
      ]
    },
    {
      "cell_type": "code",
      "metadata": {
        "colab": {
          "base_uri": "https://localhost:8080/"
        },
        "id": "lW_sjiHdLHhK",
        "outputId": "2490fc4e-d35c-4c2f-f493-e35fbfc249fd"
      },
      "source": [
        "#get the best parameters\n",
        "gs.best_params_"
      ],
      "execution_count": null,
      "outputs": [
        {
          "output_type": "execute_result",
          "data": {
            "text/plain": [
              "{'max_depth': 6, 'max_features': 'sqrt', 'min_samples_leaf': 8}"
            ]
          },
          "metadata": {
            "tags": []
          },
          "execution_count": 181
        }
      ]
    },
    {
      "cell_type": "code",
      "metadata": {
        "colab": {
          "base_uri": "https://localhost:8080/"
        },
        "id": "CeSN7YNUSOzq",
        "outputId": "9c0d422a-484b-4795-de6c-1c1e5e0c36cd"
      },
      "source": [
        "gs.best_score_"
      ],
      "execution_count": null,
      "outputs": [
        {
          "output_type": "execute_result",
          "data": {
            "text/plain": [
              "0.9005405188981422"
            ]
          },
          "metadata": {
            "tags": []
          },
          "execution_count": 182
        }
      ]
    },
    {
      "cell_type": "code",
      "metadata": {
        "colab": {
          "base_uri": "https://localhost:8080/"
        },
        "id": "jxdQArJLLHkx",
        "outputId": "6d826307-4701-483a-a2ff-175f91c86926"
      },
      "source": [
        "# model the randomforest with the best params obtained from grid search\n",
        "rf_model = RandomForestClassifier(random_state=1,max_depth=6,max_features='sqrt',min_samples_leaf=8)\n",
        "rf_model.fit(x_train,y_train)"
      ],
      "execution_count": null,
      "outputs": [
        {
          "output_type": "execute_result",
          "data": {
            "text/plain": [
              "RandomForestClassifier(bootstrap=True, ccp_alpha=0.0, class_weight=None,\n",
              "                       criterion='gini', max_depth=6, max_features='sqrt',\n",
              "                       max_leaf_nodes=None, max_samples=None,\n",
              "                       min_impurity_decrease=0.0, min_impurity_split=None,\n",
              "                       min_samples_leaf=8, min_samples_split=2,\n",
              "                       min_weight_fraction_leaf=0.0, n_estimators=100,\n",
              "                       n_jobs=None, oob_score=False, random_state=1, verbose=0,\n",
              "                       warm_start=False)"
            ]
          },
          "metadata": {
            "tags": []
          },
          "execution_count": 184
        }
      ]
    },
    {
      "cell_type": "code",
      "metadata": {
        "colab": {
          "base_uri": "https://localhost:8080/"
        },
        "id": "MuJ2E3RGLHmY",
        "outputId": "528e178e-6223-4daf-8bbf-0675248b6bde"
      },
      "source": [
        "rf = rf_model.predict(x_test)\n",
        "accuracy_score(rf,y_test)"
      ],
      "execution_count": null,
      "outputs": [
        {
          "output_type": "execute_result",
          "data": {
            "text/plain": [
              "0.8915770609318996"
            ]
          },
          "metadata": {
            "tags": []
          },
          "execution_count": 185
        }
      ]
    },
    {
      "cell_type": "code",
      "metadata": {
        "id": "UdFUBc45LHqY"
      },
      "source": [
        "#model the gaussianNB classifier\n",
        "from sklearn.naive_bayes import GaussianNB\n",
        "gnb = GaussianNB()"
      ],
      "execution_count": null,
      "outputs": []
    },
    {
      "cell_type": "code",
      "metadata": {
        "colab": {
          "base_uri": "https://localhost:8080/"
        },
        "id": "9-h1V9zVLoA3",
        "outputId": "280a9425-d000-4eb3-8130-ce94c2848761"
      },
      "source": [
        "#perform gridsearch\n",
        "from sklearn.model_selection import GridSearchCV\n",
        "params_GNB = {'var_smoothing': np.logspace(0,-9, num=100)}\n",
        "gs = GridSearchCV(estimator=gnb, param_grid=params_GNB, cv=5,verbose=1,scoring='accuracy')\n",
        "gs.fit(x_train,y_train)"
      ],
      "execution_count": null,
      "outputs": [
        {
          "output_type": "stream",
          "text": [
            "Fitting 5 folds for each of 100 candidates, totalling 500 fits\n"
          ],
          "name": "stdout"
        },
        {
          "output_type": "stream",
          "text": [
            "[Parallel(n_jobs=1)]: Using backend SequentialBackend with 1 concurrent workers.\n",
            "[Parallel(n_jobs=1)]: Done 500 out of 500 | elapsed:    5.8s finished\n"
          ],
          "name": "stderr"
        },
        {
          "output_type": "execute_result",
          "data": {
            "text/plain": [
              "GridSearchCV(cv=5, error_score=nan,\n",
              "             estimator=GaussianNB(priors=None, var_smoothing=1e-09),\n",
              "             iid='deprecated', n_jobs=None,\n",
              "             param_grid={'var_smoothing': array([1.00000000e+00, 8.11130831e-01, 6.57933225e-01, 5.33669923e-01,\n",
              "       4.32876128e-01, 3.51119173e-01, 2.84803587e-01, 2.31012970e-01,\n",
              "       1.87381742e-01, 1.51991108e-01, 1.23284674e-01, 1.00000000e-01,\n",
              "       8.11130831e-02, 6.5...\n",
              "       5.33669923e-08, 4.32876128e-08, 3.51119173e-08, 2.84803587e-08,\n",
              "       2.31012970e-08, 1.87381742e-08, 1.51991108e-08, 1.23284674e-08,\n",
              "       1.00000000e-08, 8.11130831e-09, 6.57933225e-09, 5.33669923e-09,\n",
              "       4.32876128e-09, 3.51119173e-09, 2.84803587e-09, 2.31012970e-09,\n",
              "       1.87381742e-09, 1.51991108e-09, 1.23284674e-09, 1.00000000e-09])},\n",
              "             pre_dispatch='2*n_jobs', refit=True, return_train_score=False,\n",
              "             scoring='accuracy', verbose=1)"
            ]
          },
          "metadata": {
            "tags": []
          },
          "execution_count": 187
        }
      ]
    },
    {
      "cell_type": "code",
      "metadata": {
        "colab": {
          "base_uri": "https://localhost:8080/"
        },
        "id": "UZBrSj8sLoC6",
        "outputId": "ceae2493-b308-484b-8164-d6a8fb02bc94"
      },
      "source": [
        "# get the best params\n",
        "gs.best_params_"
      ],
      "execution_count": null,
      "outputs": [
        {
          "output_type": "execute_result",
          "data": {
            "text/plain": [
              "{'var_smoothing': 0.08111308307896872}"
            ]
          },
          "metadata": {
            "tags": []
          },
          "execution_count": 188
        }
      ]
    },
    {
      "cell_type": "code",
      "metadata": {
        "colab": {
          "base_uri": "https://localhost:8080/"
        },
        "id": "C8uxoYL9LoHd",
        "outputId": "7064f4bb-25ef-4fc5-9dad-3c0fc07efe07"
      },
      "source": [
        "gs.best_score_"
      ],
      "execution_count": null,
      "outputs": [
        {
          "output_type": "execute_result",
          "data": {
            "text/plain": [
              "0.9193625880845613"
            ]
          },
          "metadata": {
            "tags": []
          },
          "execution_count": 189
        }
      ]
    },
    {
      "cell_type": "code",
      "metadata": {
        "colab": {
          "base_uri": "https://localhost:8080/"
        },
        "id": "ZW-HGsJlLoJg",
        "outputId": "4e607fd8-7fe9-44fe-bcbd-74e2c7767f1c"
      },
      "source": [
        "#train with best params\n",
        "gnb = GaussianNB(var_smoothing= 0.08111308307896872)\n",
        "gnb.fit(x_train,y_train)"
      ],
      "execution_count": null,
      "outputs": [
        {
          "output_type": "execute_result",
          "data": {
            "text/plain": [
              "GaussianNB(priors=None, var_smoothing=0.08111308307896872)"
            ]
          },
          "metadata": {
            "tags": []
          },
          "execution_count": 190
        }
      ]
    },
    {
      "cell_type": "code",
      "metadata": {
        "colab": {
          "base_uri": "https://localhost:8080/"
        },
        "id": "xNurtKsRLoNx",
        "outputId": "6372f602-f18f-46f7-ecf4-c55205f31c7b"
      },
      "source": [
        "#compute the accuracy\n",
        "gnb_pred = gnb.predict(x_test)\n",
        "accuracy_score(y_test,gnb_pred)"
      ],
      "execution_count": null,
      "outputs": [
        {
          "output_type": "execute_result",
          "data": {
            "text/plain": [
              "0.9059139784946236"
            ]
          },
          "metadata": {
            "tags": []
          },
          "execution_count": 191
        }
      ]
    },
    {
      "cell_type": "code",
      "metadata": {
        "id": "dQkBRVrbL5Bj"
      },
      "source": [
        "#model the KNN classifier\n",
        "from sklearn.neighbors import KNeighborsClassifier\n",
        "knn = KNeighborsClassifier()"
      ],
      "execution_count": null,
      "outputs": []
    },
    {
      "cell_type": "code",
      "metadata": {
        "colab": {
          "base_uri": "https://localhost:8080/"
        },
        "id": "IcaJiqXkL5Dn",
        "outputId": "470b1647-4f79-4b0c-a969-39de694c7493"
      },
      "source": [
        "#perform gridsearch\n",
        "params_KNN = {'n_neighbors': [7,8,9], 'p': [1, 2, 5]}\n",
        "gs_KNN = GridSearchCV(estimator=knn, param_grid=params_KNN,cv=5,verbose=1,scoring='accuracy')\n",
        "gs_KNN.fit(x_train,y_train)"
      ],
      "execution_count": null,
      "outputs": [
        {
          "output_type": "stream",
          "text": [
            "Fitting 5 folds for each of 9 candidates, totalling 45 fits\n"
          ],
          "name": "stdout"
        },
        {
          "output_type": "stream",
          "text": [
            "[Parallel(n_jobs=1)]: Using backend SequentialBackend with 1 concurrent workers.\n",
            "[Parallel(n_jobs=1)]: Done  45 out of  45 | elapsed:   56.5s finished\n"
          ],
          "name": "stderr"
        },
        {
          "output_type": "execute_result",
          "data": {
            "text/plain": [
              "GridSearchCV(cv=5, error_score=nan,\n",
              "             estimator=KNeighborsClassifier(algorithm='auto', leaf_size=30,\n",
              "                                            metric='minkowski',\n",
              "                                            metric_params=None, n_jobs=None,\n",
              "                                            n_neighbors=5, p=2,\n",
              "                                            weights='uniform'),\n",
              "             iid='deprecated', n_jobs=None,\n",
              "             param_grid={'n_neighbors': [7, 8, 9], 'p': [1, 2, 5]},\n",
              "             pre_dispatch='2*n_jobs', refit=True, return_train_score=False,\n",
              "             scoring='accuracy', verbose=1)"
            ]
          },
          "metadata": {
            "tags": []
          },
          "execution_count": 193
        }
      ]
    },
    {
      "cell_type": "code",
      "metadata": {
        "colab": {
          "base_uri": "https://localhost:8080/"
        },
        "id": "z2Zr1RKhL5IL",
        "outputId": "df7b013c-f0b4-42f1-930b-3c6540bdb5a7"
      },
      "source": [
        "#get the best params\n",
        "gs_KNN.best_params_"
      ],
      "execution_count": null,
      "outputs": [
        {
          "output_type": "execute_result",
          "data": {
            "text/plain": [
              "{'n_neighbors': 7, 'p': 5}"
            ]
          },
          "metadata": {
            "tags": []
          },
          "execution_count": 194
        }
      ]
    },
    {
      "cell_type": "code",
      "metadata": {
        "colab": {
          "base_uri": "https://localhost:8080/"
        },
        "id": "_9SIb0Z6L5KR",
        "outputId": "be5b157e-dd51-4cea-b09d-f41c44fb1541"
      },
      "source": [
        "gs_KNN.best_score_"
      ],
      "execution_count": null,
      "outputs": [
        {
          "output_type": "execute_result",
          "data": {
            "text/plain": [
              "0.9399783792440743"
            ]
          },
          "metadata": {
            "tags": []
          },
          "execution_count": 195
        }
      ]
    },
    {
      "cell_type": "code",
      "metadata": {
        "colab": {
          "base_uri": "https://localhost:8080/"
        },
        "id": "vto8orcGMLQ9",
        "outputId": "6bf80f93-1a36-40a0-830b-dfcf884c8769"
      },
      "source": [
        "#train the model with the best params\n",
        "knn = KNeighborsClassifier(n_neighbors=7,p=5)\n",
        "knn.fit(x_train,y_train)"
      ],
      "execution_count": null,
      "outputs": [
        {
          "output_type": "execute_result",
          "data": {
            "text/plain": [
              "KNeighborsClassifier(algorithm='auto', leaf_size=30, metric='minkowski',\n",
              "                     metric_params=None, n_jobs=None, n_neighbors=7, p=5,\n",
              "                     weights='uniform')"
            ]
          },
          "metadata": {
            "tags": []
          },
          "execution_count": 196
        }
      ]
    },
    {
      "cell_type": "code",
      "metadata": {
        "colab": {
          "base_uri": "https://localhost:8080/"
        },
        "id": "4OxmYCW4MLSq",
        "outputId": "d5b78725-4ae4-4069-8434-d46b7e599a97"
      },
      "source": [
        "#predict the output and calculate the accuracy\n",
        "kn = knn.predict(x_test)\n",
        "accuracy_score(kn,y_test)"
      ],
      "execution_count": null,
      "outputs": [
        {
          "output_type": "execute_result",
          "data": {
            "text/plain": [
              "0.9408602150537635"
            ]
          },
          "metadata": {
            "tags": []
          },
          "execution_count": 197
        }
      ]
    },
    {
      "cell_type": "code",
      "metadata": {
        "id": "TagZY_7bMLWc"
      },
      "source": [
        "#model evaluation using cross validation\n",
        "from sklearn.model_selection import cross_val_score\n",
        "cvl_rf = cross_val_score(rf_model, x_train, y_train, cv=5)\n",
        "cvl_gnb = cross_val_score(gnb, x_train, y_train, cv=5)\n",
        "cvl_knn = cross_val_score(knn, x_train, y_train, cv=5)"
      ],
      "execution_count": null,
      "outputs": []
    },
    {
      "cell_type": "code",
      "metadata": {
        "colab": {
          "base_uri": "https://localhost:8080/"
        },
        "id": "CL5RSNSdMLYE",
        "outputId": "14067161-334c-45ec-8ff4-4e8fe1cb47d3"
      },
      "source": [
        "print(cvl_rf)\n",
        "print(\"Randomforest model : \",np.mean(cvl_rf))\n",
        "print(cvl_gnb)\n",
        "print(\"GNB model : \",np.mean(cvl_gnb))\n",
        "print(cvl_knn)\n",
        "print(\"KNN model : \",np.mean(cvl_knn))"
      ],
      "execution_count": null,
      "outputs": [
        {
          "output_type": "stream",
          "text": [
            "[0.89732143 0.90134529 0.90134529 0.90134529 0.90134529]\n",
            "Randomforest model :  0.9005405188981422\n",
            "[0.91071429 0.91479821 0.92376682 0.92376682 0.92376682]\n",
            "GNB model :  0.9193625880845613\n",
            "[0.92410714 0.92825112 0.95515695 0.94170404 0.95067265]\n",
            "KNN model :  0.9399783792440743\n"
          ],
          "name": "stdout"
        }
      ]
    },
    {
      "cell_type": "markdown",
      "metadata": {
        "id": "kKUNaY0qNu2k"
      },
      "source": [
        "Without dimensionality reduction"
      ]
    },
    {
      "cell_type": "code",
      "metadata": {
        "id": "5ptvImKvNCSk"
      },
      "source": [
        "df_w = pd.concat([unmask,mask])"
      ],
      "execution_count": null,
      "outputs": []
    },
    {
      "cell_type": "code",
      "metadata": {
        "id": "jmYNHP1INWr2"
      },
      "source": [
        "x_w = df_w.iloc[:,1:]\n",
        "y_w = df_w.iloc[:,0]"
      ],
      "execution_count": null,
      "outputs": []
    },
    {
      "cell_type": "code",
      "metadata": {
        "id": "EC2Vz9SCNUvo"
      },
      "source": [
        "xw_train,xw_test,yw_train,yw_test = train_test_split(x_w,y_w,test_size=0.5)"
      ],
      "execution_count": null,
      "outputs": []
    },
    {
      "cell_type": "code",
      "metadata": {
        "colab": {
          "base_uri": "https://localhost:8080/"
        },
        "id": "I7ekoHw3MLcC",
        "outputId": "54b6b10d-8725-4885-c2e3-3838c6ed3b3f"
      },
      "source": [
        "#randomforest model\n",
        "rf_model_w = RandomForestClassifier(random_state=1,max_depth=6,max_features='sqrt',min_samples_leaf=8)\n",
        "rf_model_w.fit(xw_train,yw_train)"
      ],
      "execution_count": null,
      "outputs": [
        {
          "output_type": "execute_result",
          "data": {
            "text/plain": [
              "RandomForestClassifier(bootstrap=True, ccp_alpha=0.0, class_weight=None,\n",
              "                       criterion='gini', max_depth=6, max_features='sqrt',\n",
              "                       max_leaf_nodes=None, max_samples=None,\n",
              "                       min_impurity_decrease=0.0, min_impurity_split=None,\n",
              "                       min_samples_leaf=8, min_samples_split=2,\n",
              "                       min_weight_fraction_leaf=0.0, n_estimators=100,\n",
              "                       n_jobs=None, oob_score=False, random_state=1, verbose=0,\n",
              "                       warm_start=False)"
            ]
          },
          "metadata": {
            "tags": []
          },
          "execution_count": 75
        }
      ]
    },
    {
      "cell_type": "code",
      "metadata": {
        "colab": {
          "base_uri": "https://localhost:8080/"
        },
        "id": "pRGaD0ODMLdm",
        "outputId": "7d64b89a-85e9-4215-e6b8-e687dcf43238"
      },
      "source": [
        "#predict the output and calculate the accuracy\n",
        "rf_w = rf_model_w.predict(xw_test)\n",
        "accuracy_score(rf_w,yw_test)"
      ],
      "execution_count": null,
      "outputs": [
        {
          "output_type": "execute_result",
          "data": {
            "text/plain": [
              "0.971199416697047"
            ]
          },
          "metadata": {
            "tags": []
          },
          "execution_count": 39
        }
      ]
    },
    {
      "cell_type": "code",
      "metadata": {
        "colab": {
          "base_uri": "https://localhost:8080/"
        },
        "id": "PMNZPA-dMLiA",
        "outputId": "261a94ff-e303-4f6d-aec6-8ddb9e423ee0"
      },
      "source": [
        "#gaussianNB model\n",
        "gnb_w = GaussianNB()\n",
        "gnb_w.fit(xw_train,yw_train)"
      ],
      "execution_count": null,
      "outputs": [
        {
          "output_type": "execute_result",
          "data": {
            "text/plain": [
              "GaussianNB(priors=None, var_smoothing=1e-09)"
            ]
          },
          "metadata": {
            "tags": []
          },
          "execution_count": 40
        }
      ]
    },
    {
      "cell_type": "code",
      "metadata": {
        "colab": {
          "base_uri": "https://localhost:8080/"
        },
        "id": "rVEcIAfUMLkQ",
        "outputId": "24cc62e5-03f1-4e0a-cda3-cb2e06f8b730"
      },
      "source": [
        "#predict the accuracy\n",
        "gnb_pred_w = gnb_w.predict(xw_test)\n",
        "accuracy_score(gnb_pred_w,yw_test)"
      ],
      "execution_count": null,
      "outputs": [
        {
          "output_type": "execute_result",
          "data": {
            "text/plain": [
              "0.8683922712358731"
            ]
          },
          "metadata": {
            "tags": []
          },
          "execution_count": 41
        }
      ]
    },
    {
      "cell_type": "code",
      "metadata": {
        "colab": {
          "base_uri": "https://localhost:8080/"
        },
        "id": "cPKoqwILMLoP",
        "outputId": "ea63d395-d7d5-461b-a7be-5c4abbd072eb"
      },
      "source": [
        "#KNN model\n",
        "from sklearn.neighbors import KNeighborsClassifier\n",
        "knn_w = KNeighborsClassifier(n_neighbors= 7,p= 5)\n",
        "knn_w.fit(xw_train,yw_train)"
      ],
      "execution_count": null,
      "outputs": [
        {
          "output_type": "execute_result",
          "data": {
            "text/plain": [
              "KNeighborsClassifier(algorithm='auto', leaf_size=30, metric='minkowski',\n",
              "                     metric_params=None, n_jobs=None, n_neighbors=7, p=5,\n",
              "                     weights='uniform')"
            ]
          },
          "metadata": {
            "tags": []
          },
          "execution_count": 42
        }
      ]
    },
    {
      "cell_type": "code",
      "metadata": {
        "colab": {
          "base_uri": "https://localhost:8080/"
        },
        "id": "Wa4rVVt0ML2Z",
        "outputId": "932a0d7f-92fa-4217-aeac-d4038dae400f"
      },
      "source": [
        "#predict the accuracy\n",
        "kn_w = knn_w.predict(xw_test)\n",
        "accuracy_score(kn_w,yw_test)"
      ],
      "execution_count": null,
      "outputs": [
        {
          "output_type": "execute_result",
          "data": {
            "text/plain": [
              "0.8951612903225806"
            ]
          },
          "metadata": {
            "tags": []
          },
          "execution_count": 209
        }
      ]
    },
    {
      "cell_type": "code",
      "metadata": {
        "id": "uOEaQZHYMxnk"
      },
      "source": [
        "#performing cross validation\n",
        "from sklearn.model_selection import cross_val_score\n",
        "cvl_rf_w = cross_val_score(rf_model_w, xw_train, yw_train, cv=5)\n",
        "cvl_gnb_w = cross_val_score(gnb_w, xw_train, yw_train, cv=5)\n",
        "cvl_knn_w = cross_val_score(knn_w, xw_train, yw_train, cv=5)"
      ],
      "execution_count": null,
      "outputs": []
    },
    {
      "cell_type": "code",
      "metadata": {
        "colab": {
          "base_uri": "https://localhost:8080/"
        },
        "id": "pTj9so-QMxpg",
        "outputId": "7a81d11b-530c-49c8-afd9-62d6588fb4da"
      },
      "source": [
        "print(cvl_rf_w)\n",
        "print(\"Randomforest model : \",np.mean(cvl_rf_w))\n",
        "print(cvl_gnb_w)\n",
        "print(\"GNB model : \",np.mean(cvl_gnb_w))\n",
        "print(cvl_knn_w)\n",
        "print(\"KNN model : \",np.mean(cvl_knn_w))"
      ],
      "execution_count": null,
      "outputs": [
        {
          "output_type": "stream",
          "text": [
            "[0.94196429 0.96860987 0.98206278 0.96412556 0.95964126]\n",
            "Randomforest model :  0.9632807495195387\n",
            "[0.86607143 0.86995516 0.86995516 0.91479821 0.88340807]\n",
            "GNB model :  0.880837604099936\n",
            "[0.90178571 0.9058296  0.9058296  0.9058296  0.9058296 ]\n",
            "KNN model :  0.9050208199871876\n"
          ],
          "name": "stdout"
        }
      ]
    },
    {
      "cell_type": "code",
      "metadata": {
        "id": "AUnTzI7_c1wc"
      },
      "source": [
        "xw_test = xw_test.values\n",
        "yw_test = yw_test.values"
      ],
      "execution_count": null,
      "outputs": []
    },
    {
      "cell_type": "code",
      "metadata": {
        "id": "MEQ1T3WqMxyP",
        "colab": {
          "base_uri": "https://localhost:8080/",
          "height": 1000
        },
        "outputId": "1596ddc8-5e6a-4a4a-fe2f-8de11e068f96"
      },
      "source": [
        "from PIL import Image\n",
        "from IPython.display import display\n",
        "import matplotlib.pyplot as plt\n",
        "testcase_y = yw_test[0:10]\n",
        "predicted_rf = rf_model_w.predict(xw_test[0:10,:])\n",
        "predicted_gnb = gnb_w.predict(xw_test[0:10,:])\n",
        "predicted_knn = knn_w.predict(xw_test[0:10,:])\n",
        "y_act_img=yw_test[0:10]\n",
        "for i in range(10):\n",
        "  t=xw_test[i,:]\n",
        "  rgb=np.array(t).reshape(64,64,3)\n",
        "  rgb=rgb.astype(np.uint8)\n",
        "  print(\"Random forest model Predited : \",predicted_rf[i])\n",
        "  print(\"GNB model Predited : \",predicted_gnb[i])\n",
        "  print(\"KNN model Predited : \",predicted_knn[i])\n",
        "  print(\"Actual : \",testcase_y[i])\n",
        "  image=Image.fromarray(np.array(rgb),'RGB')\n",
        "  display(image)"
      ],
      "execution_count": null,
      "outputs": [
        {
          "output_type": "stream",
          "text": [
            "Random forest model Predited :  0\n",
            "GNB model Predited :  0\n",
            "KNN model Predited :  0\n",
            "Actual :  0\n"
          ],
          "name": "stdout"
        },
        {
          "output_type": "display_data",
          "data": {
            "image/png": "[encoded data removed]",
            "text/plain": [
              "<PIL.Image.Image image mode=RGB size=64x64 at 0x7F97E0976210>"
            ]
          },
          "metadata": {
            "tags": []
          }
        },
        {
          "output_type": "stream",
          "text": [
            "Random forest model Predited :  0\n",
            "GNB model Predited :  0\n",
            "KNN model Predited :  0\n",
            "Actual :  0\n"
          ],
          "name": "stdout"
        },
        {
          "output_type": "display_data",
          "data": {
            "image/png": "[encoded data removed]",
            "text/plain": [
              "<PIL.Image.Image image mode=RGB size=64x64 at 0x7F97E083DA10>"
            ]
          },
          "metadata": {
            "tags": []
          }
        },
        {
          "output_type": "stream",
          "text": [
            "Random forest model Predited :  1\n",
            "GNB model Predited :  1\n",
            "KNN model Predited :  0\n",
            "Actual :  1\n"
          ],
          "name": "stdout"
        },
        {
          "output_type": "display_data",
          "data": {
            "image/png": "[encoded data removed]",
            "text/plain": [
              "<PIL.Image.Image image mode=RGB size=64x64 at 0x7F97E078BB90>"
            ]
          },
          "metadata": {
            "tags": []
          }
        },
        {
          "output_type": "stream",
          "text": [
            "Random forest model Predited :  0\n",
            "GNB model Predited :  0\n",
            "KNN model Predited :  0\n",
            "Actual :  0\n"
          ],
          "name": "stdout"
        },
        {
          "output_type": "display_data",
          "data": {
            "image/png": "[encoded data removed]",
            "text/plain": [
              "<PIL.Image.Image image mode=RGB size=64x64 at 0x7F97E078BE10>"
            ]
          },
          "metadata": {
            "tags": []
          }
        },
        {
          "output_type": "stream",
          "text": [
            "Random forest model Predited :  1\n",
            "GNB model Predited :  1\n",
            "KNN model Predited :  0\n",
            "Actual :  1\n"
          ],
          "name": "stdout"
        },
        {
          "output_type": "display_data",
          "data": {
            "image/png": "[encoded data removed]",
            "text/plain": [
              "<PIL.Image.Image image mode=RGB size=64x64 at 0x7F97E078B490>"
            ]
          },
          "metadata": {
            "tags": []
          }
        },
        {
          "output_type": "stream",
          "text": [
            "Random forest model Predited :  0\n",
            "GNB model Predited :  0\n",
            "KNN model Predited :  0\n",
            "Actual :  0\n"
          ],
          "name": "stdout"
        },
        {
          "output_type": "display_data",
          "data": {
            "image/png": "[encoded data removed]",
            "text/plain": [
              "<PIL.Image.Image image mode=RGB size=64x64 at 0x7F97E078BCD0>"
            ]
          },
          "metadata": {
            "tags": []
          }
        },
        {
          "output_type": "stream",
          "text": [
            "Random forest model Predited :  0\n",
            "GNB model Predited :  0\n",
            "KNN model Predited :  0\n",
            "Actual :  0\n"
          ],
          "name": "stdout"
        },
        {
          "output_type": "display_data",
          "data": {
            "image/png": "[encoded data removed]",
            "text/plain": [
              "<PIL.Image.Image image mode=RGB size=64x64 at 0x7F97E078BFD0>"
            ]
          },
          "metadata": {
            "tags": []
          }
        },
        {
          "output_type": "stream",
          "text": [
            "Random forest model Predited :  0\n",
            "GNB model Predited :  0\n",
            "KNN model Predited :  0\n",
            "Actual :  0\n"
          ],
          "name": "stdout"
        },
        {
          "output_type": "display_data",
          "data": {
            "image/png": "[encoded data removed]",
            "text/plain": [
              "<PIL.Image.Image image mode=RGB size=64x64 at 0x7F97E078BB10>"
            ]
          },
          "metadata": {
            "tags": []
          }
        },
        {
          "output_type": "stream",
          "text": [
            "Random forest model Predited :  1\n",
            "GNB model Predited :  1\n",
            "KNN model Predited :  0\n",
            "Actual :  1\n"
          ],
          "name": "stdout"
        },
        {
          "output_type": "display_data",
          "data": {
            "image/png": "[encoded data removed]",
            "text/plain": [
              "<PIL.Image.Image image mode=RGB size=64x64 at 0x7F97E078B090>"
            ]
          },
          "metadata": {
            "tags": []
          }
        },
        {
          "output_type": "stream",
          "text": [
            "Random forest model Predited :  0\n",
            "GNB model Predited :  0\n",
            "KNN model Predited :  0\n",
            "Actual :  0\n"
          ],
          "name": "stdout"
        },
        {
          "output_type": "display_data",
          "data": {
            "image/png": "[encoded data removed]",
            "text/plain": [
              "<PIL.Image.Image image mode=RGB size=64x64 at 0x7F97E078BE10>"
            ]
          },
          "metadata": {
            "tags": []
          }
        }
      ]
    },
    {
      "cell_type": "code",
      "metadata": {
        "id": "jrd2m4nTMx0I"
      },
      "source": [
        ""
      ],
      "execution_count": null,
      "outputs": []
    },
    {
      "cell_type": "code",
      "metadata": {
        "id": "G8rmiGhHMx48"
      },
      "source": [
        ""
      ],
      "execution_count": null,
      "outputs": []
    }
  ]
}